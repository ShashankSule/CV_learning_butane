{
 "cells": [
  {
   "cell_type": "code",
   "execution_count": 1,
   "metadata": {},
   "outputs": [
    {
     "name": "stderr",
     "output_type": "stream",
     "text": [
      "/Users/shashanksule/miniforge3/envs/mdenv/lib/python3.11/site-packages/tqdm/auto.py:21: TqdmWarning: IProgress not found. Please update jupyter and ipywidgets. See https://ipywidgets.readthedocs.io/en/stable/user_install.html\n",
      "  from .autonotebook import tqdm as notebook_tqdm\n",
      "/Users/shashanksule/miniforge3/envs/mdenv/lib/python3.11/site-packages/MDAnalysis/topology/TPRParser.py:161: DeprecationWarning: 'xdrlib' is deprecated and slated for removal in Python 3.13\n",
      "  import xdrlib\n"
     ]
    }
   ],
   "source": [
    "## import required packages\n",
    "import os, math, sys\n",
    "import numpy as np\n",
    "import matplotlib.pyplot as plt\n",
    "import openmm.app  as omm_app\n",
    "import openmm as omm\n",
    "import openmm.unit as unit\n",
    "from tqdm import tqdm\n",
    "# import mdtraj\n",
    "import MDAnalysis as mda\n",
    "from MDAnalysis.analysis import align, rms\n",
    "from MDAnalysis.analysis.dihedrals import Dihedral"
   ]
  },
  {
   "cell_type": "code",
   "execution_count": 2,
   "metadata": {},
   "outputs": [],
   "source": [
    "import torch.nn as nn\n",
    "import torch"
   ]
  },
  {
   "cell_type": "code",
   "execution_count": 3,
   "metadata": {},
   "outputs": [],
   "source": [
    "def dihedral_angle_torch(x):\n",
    "    # get dihedral angle\n",
    "    carbons = x[[3,6,9,13],:]\n",
    "    vectors = carbons[1:,:] - carbons[:-1,:]\n",
    "    na = torch.cross(-vectors[0,:], vectors[1,:])\n",
    "    nb = torch.cross(-vectors[1,:], vectors[2,:])\n",
    "    xx = torch.dot(na.flatten(), nb.flatten())\n",
    "    xp = torch.cross(na,nb)\n",
    "    yy = torch.dot(vectors[1,:].flatten(),xp.flatten())/torch.norm(vectors[1,:])\n",
    "    angle = torch.atan2(yy,xx)\n",
    "    return angle\n",
    "def dihedral_angle_cos(x):\n",
    "    return torch.cos(dihedral_angle_torch(x))\n",
    "def dihedral_angle_sin(x):\n",
    "    return torch.sin(dihedral_angle_torch(x))"
   ]
  },
  {
   "cell_type": "markdown",
   "metadata": {},
   "source": [
    "# Set up system + Sim params"
   ]
  },
  {
   "cell_type": "code",
   "execution_count": 4,
   "metadata": {},
   "outputs": [],
   "source": [
    "# Indicates whether to run a simulation or not\n",
    "SIMULATE = False\n",
    "device = \"cuda:0\""
   ]
  },
  {
   "cell_type": "code",
   "execution_count": 7,
   "metadata": {},
   "outputs": [],
   "source": [
    "psf = omm_app.CharmmPsfFile('../../data/butane.psf')\n",
    "pdb = omm_app.PDBFile('../../data/butane.pdb')\n",
    "topology = psf.topology"
   ]
  },
  {
   "cell_type": "code",
   "execution_count": 9,
   "metadata": {},
   "outputs": [],
   "source": [
    "params = omm_app.CharmmParameterSet('../../data/top_all35_ethers.rtf',\n",
    "                                    '../../data/par_all35_ethers.prm')"
   ]
  },
  {
   "cell_type": "code",
   "execution_count": 10,
   "metadata": {},
   "outputs": [
    {
     "data": {
      "text/plain": [
       "8"
      ]
     },
     "execution_count": 10,
     "metadata": {},
     "output_type": "execute_result"
    }
   ],
   "source": [
    "system = psf.createSystem(params, nonbondedMethod=omm_app.NoCutoff)\n",
    "## add a harmonic biasing potential on butane dihedral to the OpenMM system\n",
    "# bias_torsion = omm.CustomTorsionForce(\"0.5*K*dtheta^2; dtheta = min(diff, 2*Pi-diff); diff = abs(theta - theta0)\")\n",
    "bias_torsion = omm.CustomTorsionForce(\"0.5*K*diffc^2 + 0.5*K*diffs^2; diffc = abs(cos(theta) - c); diffs = abs(sin(theta) - s)\")\n",
    "bias_torsion.addGlobalParameter(\"Pi\", math.pi)\n",
    "bias_torsion.addGlobalParameter(\"K\", 1.0)\n",
    "bias_torsion.addGlobalParameter(\"c\", -1.0)\n",
    "bias_torsion.addGlobalParameter(\"s\", 0.0)\n",
    "## 3, 6, 9, 13 are indices of the four carton atoms in butane, between which\n",
    "## the dihedral angle is biased.\n",
    "bias_torsion.addTorsion(3, 6, 9, 13)\n",
    "system.addForce(bias_torsion)"
   ]
  },
  {
   "cell_type": "code",
   "execution_count": 11,
   "metadata": {},
   "outputs": [],
   "source": [
    "# ## read the OpenMM system of butane\n",
    "# with open(\"../output/system.xml\", 'r') as file_handle:\n",
    "#     xml = file_handle.read()\n",
    "# system = omm.XmlSerializer.deserialize(xml)\n",
    "\n",
    "## read psf and pdb file of butane\n",
    "psf = omm_app.CharmmPsfFile(\"../../data/butane.psf\")\n",
    "pdb = omm_app.PDBFile('../../data/butane.pdb')\n",
    "topology = psf.topology"
   ]
  },
  {
   "cell_type": "markdown",
   "metadata": {},
   "source": [
    "# Get data for centering bias potential"
   ]
  },
  {
   "cell_type": "code",
   "execution_count": 12,
   "metadata": {},
   "outputs": [],
   "source": [
    "# angles = np.linspace(-np.pi, -np.pi, 100)"
   ]
  },
  {
   "cell_type": "code",
   "execution_count": 8,
   "metadata": {},
   "outputs": [],
   "source": [
    "#### setup an OpenMM context\n",
    "\n",
    "## platform\n",
    "platform = omm.Platform.getPlatformByName('CUDA')\n",
    "\n",
    "## integrator\n",
    "T = 300 * unit.kelvin  ## temperature\n",
    "kbT = unit.BOLTZMANN_CONSTANT_kB * T * unit.AVOGADRO_CONSTANT_NA \n",
    "kbT = kbT.value_in_unit(unit.kilojoule_per_mole)\n",
    "fricCoef = 10/unit.picoseconds ## friction coefficient\n",
    "stepsize = 2 * unit.femtoseconds ## integration step size\n",
    "integrator = omm.LangevinMiddleIntegrator(T, fricCoef, stepsize)\n",
    "\n",
    "## construct an OpenMM context\n",
    "context = omm.Context(system, integrator, platform)"
   ]
  },
  {
   "cell_type": "code",
   "execution_count": 9,
   "metadata": {},
   "outputs": [],
   "source": [
    "## set force constant K for the biasing potential.\n",
    "## the unit here is kJ*mol^{-1}*nm^{-2}, which is the default unit used in OpenMM\n",
    "K = 500\n",
    "context.setParameter(\"K\", K)\n",
    "\n",
    "## M centers of harmonic biasing potentials\n",
    "# M = 10\n",
    "# # theta0 = np.linspace(-math.pi, math.pi, M, endpoint = False)\n",
    "# cs = np.linspace(-1.0, 1.0, M)\n",
    "# ss = np.linspace(-1.0, 1.0, M)\n",
    "# np.savetxt(\"./output/dihedral_TPT/theta0.csv\", theta0, delimiter = \",\")"
   ]
  },
  {
   "cell_type": "code",
   "execution_count": 28,
   "metadata": {},
   "outputs": [],
   "source": [
    "traj = mda.Universe(\"../../data/butane.psf\", \"traj.dcd\")\n",
    "full_traj = traj.trajectory.timeseries(traj.atoms)\n",
    "subsampled_traj = torch.permute(torch.Tensor(full_traj[:,::1,:]),(1,0,2))"
   ]
  },
  {
   "cell_type": "code",
   "execution_count": 13,
   "metadata": {},
   "outputs": [
    {
     "name": "stderr",
     "output_type": "stream",
     "text": [
      "100%|██████████| 10/10 [00:00<00:00, 1274.17it/s]\n"
     ]
    }
   ],
   "source": [
    "CV_space = []\n",
    "angles = []\n",
    "for i in tqdm(range(subsampled_traj.shape[0])): \n",
    "    cos_angle = dihedral_angle_cos(subsampled_traj[i,:,:].squeeze(0))\n",
    "    sin_angle = dihedral_angle_sin(subsampled_traj[i,:,:].squeeze(0))\n",
    "    angle = dihedral_angle_torch(subsampled_traj[i,:,:].squeeze(0))\n",
    "    CV_space.append(np.array([sin_angle, cos_angle])) # weird convention due to sampling\n",
    "    angles.append(angle)\n",
    "CV_space = np.array(CV_space) \n",
    "angles = np.array(angles)"
   ]
  },
  {
   "cell_type": "code",
   "execution_count": 12,
   "metadata": {},
   "outputs": [
    {
     "data": {
      "text/plain": [
       "<matplotlib.collections.PathCollection at 0x7fa08208b810>"
      ]
     },
     "execution_count": 12,
     "metadata": {},
     "output_type": "execute_result"
    },
    {
     "data": {
      "image/png": "[encoded data removed]",
      "text/plain": [
       "<Figure size 640x480 with 1 Axes>"
      ]
     },
     "metadata": {},
     "output_type": "display_data"
    }
   ],
   "source": [
    "# visualize\n",
    "plt.scatter(CV_space[:,0], CV_space[:,1], c=angles, cmap='hsv', alpha=0.005)"
   ]
  },
  {
   "cell_type": "markdown",
   "metadata": {},
   "source": [
    "# Now run the simZ! "
   ]
  },
  {
   "cell_type": "code",
   "execution_count": null,
   "metadata": {},
   "outputs": [
    {
     "name": "stderr",
     "output_type": "stream",
     "text": [
      " 26%|█████████▎                          | 3158/12254 [57:27<2:41:03,  1.06s/it]"
     ]
    }
   ],
   "source": [
    "## the main loop to run umbrella sampling window by window\n",
    "for index in tqdm(range(CV_space.shape[0])):\n",
    "        ## set the center of the biasing potential\n",
    "        context.setParameter(\"c\", CV_space[index,1])\n",
    "        context.setParameter(\"s\", CV_space[index, 0])\n",
    "        \n",
    "        ## minimize\n",
    "        context.setPositions(pdb.positions)\n",
    "        state = context.getState(getEnergy = True)\n",
    "        energy = state.getPotentialEnergy()\n",
    "        for i in range(50):\n",
    "            omm.LocalEnergyMinimizer.minimize(context, 1, 20)\n",
    "            state = context.getState(getEnergy = True)\n",
    "            energy = state.getPotentialEnergy()\n",
    "    \n",
    "        ## initial equilibrium\n",
    "        integrator.step(5000)\n",
    "    \n",
    "        ## sampling production. trajectories are saved in dcd files\n",
    "        file_handle = open(f\"../output/dihedral_TPT/short_traj/traj_{index}.dcd\", 'bw')\n",
    "        dcd_file = omm_app.dcdfile.DCDFile(file_handle, psf.topology, dt = stepsize)\n",
    "        for i in range(300):\n",
    "            integrator.step(100)\n",
    "            state = context.getState(getPositions = True)\n",
    "            positions = state.getPositions()\n",
    "            dcd_file.writeModel(positions)\n",
    "        file_handle.close()"
   ]
  },
  {
   "cell_type": "code",
   "execution_count": 20,
   "metadata": {},
   "outputs": [
    {
     "name": "stderr",
     "output_type": "stream",
     "text": [
      "100%|██████████████████████████████████████████████████████████████████████████████████████████████| 1000/1000 [18:40<00:00,  1.12s/it]\n"
     ]
    }
   ],
   "source": [
    "## the main loop to run umbrella sampling window by window\n",
    "for theta0_index in tqdm(range(M)):\n",
    "    # print(f\"sampling at theta0 index: {theta0_index} out of {M}\")\n",
    "\n",
    "    ## set the center of the biasing potential\n",
    "    context.setParameter(\"theta0\", theta0[theta0_index])\n",
    "\n",
    "    ## minimize\n",
    "    context.setPositions(pdb.positions)\n",
    "    state = context.getState(getEnergy = True)\n",
    "    energy = state.getPotentialEnergy()\n",
    "    for i in range(50):\n",
    "        omm.LocalEnergyMinimizer.minimize(context, 1, 20)\n",
    "        state = context.getState(getEnergy = True)\n",
    "        energy = state.getPotentialEnergy()\n",
    "\n",
    "    ## initial equilibrium\n",
    "    integrator.step(5000)\n",
    "\n",
    "    ## sampling production. trajectories are saved in dcd files\n",
    "    file_handle = open(f\"../output/dihedral_TPT/short_traj/traj_{theta0_index}.dcd\", 'bw')\n",
    "    dcd_file = omm_app.dcdfile.DCDFile(file_handle, psf.topology, dt = stepsize)\n",
    "    for i in range(300):\n",
    "        integrator.step(100)\n",
    "        state = context.getState(getPositions = True)\n",
    "        positions = state.getPositions()\n",
    "        dcd_file.writeModel(positions)\n",
    "    file_handle.close()"
   ]
  },
  {
   "cell_type": "markdown",
   "metadata": {},
   "source": [
    "# Upload dihedral angle model for diff.tensor compute"
   ]
  },
  {
   "cell_type": "code",
   "execution_count": 16,
   "metadata": {},
   "outputs": [
    {
     "name": "stderr",
     "output_type": "stream",
     "text": [
      "100%|█████████████████████████████████████| 12254/12254 [46:31<00:00,  4.39it/s]\n"
     ]
    }
   ],
   "source": [
    "M = []\n",
    "for index in tqdm(range(CV_space.shape[0])):\n",
    "        short_traj = mda.Universe(\"../data/butane.psf\", f\"../output/dihedral_TPT/short_traj/traj_{index}.dcd\")\n",
    "        coords = torch.permute(torch.Tensor(short_traj.trajectory.timeseries(short_traj.atoms)),(1,0,2))\n",
    "        # set up jacobians \n",
    "        jmat1 = torch.zeros(coords.shape)\n",
    "        jmat2 = torch.zeros(coords.shape)\n",
    "        for j in range(300):\n",
    "            jmat1[j,:,:] = torch.autograd.functional.jacobian(dihedral_angle_cos, coords[j,:,:])\n",
    "            jmat2[j,:,:] = torch.autograd.functional.jacobian(dihedral_angle_sin, coords[j,:,:])\n",
    "    \n",
    "        # compute diff tensor \n",
    "        diff_tensor = (1/300)*torch.tensor([[torch.sum(jmat1*jmat1), torch.sum(jmat1*jmat2)], [torch.sum(jmat2*jmat1), torch.sum(jmat2*jmat2)]])\n",
    "        M.append(diff_tensor.numpy())"
   ]
  },
  {
   "cell_type": "code",
   "execution_count": 14,
   "metadata": {},
   "outputs": [],
   "source": [
    "diff_tensor_dic = np.load('diffusion_tensors_cossin.npz', allow_pickle=True)\n",
    "data, diffusion_tensors = diff_tensor_dic['data'], diff_tensor_dic['diffusion_tensors']"
   ]
  },
  {
   "cell_type": "code",
   "execution_count": 15,
   "metadata": {},
   "outputs": [],
   "source": [
    "for i in range(diffusion_tensors.shape[0]): \n",
    "    dcos_squared = diffusion_tensors[i,0,0]\n",
    "    dsin_squared = diffusion_tensors[i,1,1]\n",
    "    diffusion_tensors[i,0,0] = dsin_squared\n",
    "    diffusion_tensors[i,1,1] = dcos_squared"
   ]
  },
  {
   "cell_type": "code",
   "execution_count": 16,
   "metadata": {},
   "outputs": [],
   "source": [
    "subsampled_M = diffusion_tensors[::100,:,:]\n",
    "subsampeld_data = data[::100,:] "
   ]
  },
  {
   "cell_type": "code",
   "execution_count": 17,
   "metadata": {},
   "outputs": [
    {
     "data": {
      "text/plain": [
       "(-1.2, 1.2)"
      ]
     },
     "execution_count": 17,
     "metadata": {},
     "output_type": "execute_result"
    },
    {
     "data": {
      "image/png": "[encoded data removed]",
      "text/plain": [
       "<Figure size 640x480 with 1 Axes>"
      ]
     },
     "metadata": {},
     "output_type": "display_data"
    }
   ],
   "source": [
    "plot_scale = 1e-2\n",
    "i=0\n",
    "for index in range(subsampled_M.shape[0]):\n",
    "        # if final_angles[i] >= 2.5:\n",
    "        cov = subsampled_M[i,:,:]\n",
    "        evals, evecs = np.linalg.eig(cov)\n",
    "        idx = evals.argsort()[::-1]\n",
    "        evals = evals[idx]\n",
    "        evecs = evecs[:, idx]\n",
    "        t = np.linspace(0, 2*np.pi)\n",
    "        val = plot_scale*evecs*evals\n",
    "        x = data[i,:]\n",
    "        # x = np.array([cs[c], ss[s]])\n",
    "        # x = CV_space[index,:]\n",
    "        # print(f'{x}')\n",
    "        a = np.dot(val, np.vstack([np.cos(t), np.sin(t)]))\n",
    "        plt.plot(a[0, :] + x[0], a[1, :] + x[1], linewidth=0.5, c='k')\n",
    "        plt.scatter(x[0], x[1], color='b', s=5.0)\n",
    "        i = i+1\n",
    "plt.xlim([-1.2,1.2])\n",
    "plt.ylim([-1.2,1.2])"
   ]
  },
  {
   "cell_type": "code",
   "execution_count": 20,
   "metadata": {},
   "outputs": [],
   "source": [
    "# visualize each component\n",
    "angles = np.arctan2(data[:,0],data[:,1])"
   ]
  },
  {
   "cell_type": "code",
   "execution_count": 25,
   "metadata": {},
   "outputs": [
    {
     "data": {
      "text/plain": [
       "<matplotlib.collections.PathCollection at 0x7fa011ab5550>"
      ]
     },
     "execution_count": 25,
     "metadata": {},
     "output_type": "execute_result"
    },
    {
     "data": {
      "image/png": "[encoded data removed]",
      "text/plain": [
       "<Figure size 640x480 with 1 Axes>"
      ]
     },
     "metadata": {},
     "output_type": "display_data"
    }
   ],
   "source": [
    "plt.scatter(angles, diffusion_tensors[:,0,0], s=1.0)"
   ]
  }
 ],
 "metadata": {
  "kernelspec": {
   "display_name": "mdenv",
   "language": "python",
   "name": "python3"
  },
  "language_info": {
   "codemirror_mode": {
    "name": "ipython",
    "version": 3
   },
   "file_extension": ".py",
   "mimetype": "text/x-python",
   "name": "python",
   "nbconvert_exporter": "python",
   "pygments_lexer": "ipython3",
   "version": "3.11.5"
  }
 },
 "nbformat": 4,
 "nbformat_minor": 4
}
