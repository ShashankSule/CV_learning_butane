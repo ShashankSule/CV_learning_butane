{
 "cells": [
  {
   "cell_type": "code",
   "execution_count": 1,
   "id": "225e734c-246f-4260-8409-7fb401c4b832",
   "metadata": {
    "scrolled": true
   },
   "outputs": [
    {
     "name": "stderr",
     "output_type": "stream",
     "text": [
      "Warning: importing 'simtk.openmm' is deprecated.  Import 'openmm' instead.\n",
      "/export/ssule25/miniconda3/envs/ptorch/lib/python3.11/site-packages/tqdm/auto.py:21: TqdmWarning: IProgress not found. Please update jupyter and ipywidgets. See https://ipywidgets.readthedocs.io/en/stable/user_install.html\n",
      "  from .autonotebook import tqdm as notebook_tqdm\n",
      "/export/ssule25/miniconda3/envs/ptorch/lib/python3.11/site-packages/Bio/Application/__init__.py:40: BiopythonDeprecationWarning: The Bio.Application modules and modules relying on it have been deprecated.\n",
      "\n",
      "Due to the on going maintenance burden of keeping command line application\n",
      "wrappers up to date, we have decided to deprecate and eventually remove these\n",
      "modules.\n",
      "\n",
      "We instead now recommend building your command line and invoking it directly\n",
      "with the subprocess module.\n",
      "  warnings.warn(\n"
     ]
    }
   ],
   "source": [
    "import os, math, sys\n",
    "from sys import stdout\n",
    "\n",
    "import numpy as np\n",
    "import matplotlib.pyplot as plt\n",
    "import openmm.app  as omm_app\n",
    "import openmm as omm\n",
    "import simtk.unit as unit\n",
    "from tqdm import tqdm\n",
    "\n",
    "import torch.nn as nn\n",
    "import torch\n",
    "# import openmmtools\n",
    "from openmmtorch import TorchForce\n",
    "from copy import deepcopy\n",
    "import MDAnalysis as mda\n",
    "from MDAnalysis.analysis import align, rms"
   ]
  },
  {
   "cell_type": "code",
   "execution_count": 2,
   "id": "8ed208f4",
   "metadata": {},
   "outputs": [],
   "source": [
    "from MDAnalysis.analysis.dihedrals import Dihedral"
   ]
  },
  {
   "cell_type": "markdown",
   "id": "ca9ba772-f577-4cac-88c6-da3f9ccd418e",
   "metadata": {},
   "source": [
    "We will now compute the diffusion tensor for each point in a metadynamics simulation. The relevant dcd file is given by `traj_metad_apr2.dcd`. The method we will use will be the spring constant method in Van den eijnden, Ciccotti et al. "
   ]
  },
  {
   "cell_type": "markdown",
   "id": "95b815c2-ce62-4526-ab53-44674071a6d3",
   "metadata": {},
   "source": [
    "### Citing: Most of the openmm data needed for butane and format of this notebook comes from [here](https://fastmbar.readthedocs.io/en/latest/butane_PMF.html)."
   ]
  },
  {
   "cell_type": "code",
   "execution_count": 3,
   "id": "bdc57f52-7dc1-4af5-8b2d-a99b897f1323",
   "metadata": {},
   "outputs": [],
   "source": [
    "# Indicates whether to run a simulation or not\n",
    "SIMULATE = False\n",
    "device = \"cpu\""
   ]
  },
  {
   "cell_type": "markdown",
   "id": "74c655ff-7f89-49f9-bf85-58ea96aca673",
   "metadata": {},
   "source": [
    "## 1. Construct an OpenMM system of butane\n",
    "We set up the MD molecular system in the format/object required by OpenMM, a class called\n",
    "[System](http://docs.openmm.org/7.1.0/api-python/generated/simtk.openmm.openmm.System.html)."
   ]
  },
  {
   "cell_type": "markdown",
   "id": "cdcae4ac-bf88-4334-8874-537c00c2ceed",
   "metadata": {},
   "source": [
    "We read in **psf** and **pdb** files for butane: butane.psf and butane.pdb.\n",
    "The psf file, butane.psf, contains the topology of butane and it is the topolgy file format used by [CHARMM](https://www.charmm.org/).\n",
    "The file used here is generated using CHARMM.\n",
    "OpenMM has parsers for topology files with different format from AMBER, CHARMM, etc."
   ]
  },
  {
   "cell_type": "code",
   "execution_count": 4,
   "id": "5148f46d-24f6-4d26-8ee1-acc54a94ff39",
   "metadata": {},
   "outputs": [],
   "source": [
    "psf = omm_app.CharmmPsfFile('../data/butane.psf')\n",
    "pdb = omm_app.PDBFile('../data/butane.pdb')\n",
    "topology = psf.topology"
   ]
  },
  {
   "cell_type": "markdown",
   "id": "30c5f964-6d1f-45eb-8d57-dc89e1934bfe",
   "metadata": {},
   "source": [
    "Read CHARMM force field for butane. The CHARMM force field is downloaded from [here](http://mackerell.umaryland.edu/charmm_ff.shtml)"
   ]
  },
  {
   "cell_type": "code",
   "execution_count": 5,
   "id": "f24bad94-206c-4942-8422-1fca10de82eb",
   "metadata": {},
   "outputs": [],
   "source": [
    "params = omm_app.CharmmParameterSet('../data/top_all35_ethers.rtf',\n",
    "                                    '../data/par_all35_ethers.prm')"
   ]
  },
  {
   "cell_type": "markdown",
   "id": "701f8faf-d3c6-40c6-92c6-433eb11f4e37",
   "metadata": {},
   "source": [
    "Create a OpenMM system based on the psf file of butane and the CHARMM force field."
   ]
  },
  {
   "cell_type": "code",
   "execution_count": 6,
   "id": "999b6517-45a7-49cd-8ccf-a92ac31b51db",
   "metadata": {},
   "outputs": [],
   "source": [
    "system = psf.createSystem(params, nonbondedMethod=omm_app.NoCutoff)"
   ]
  },
  {
   "cell_type": "markdown",
   "id": "2b9136d8-a548-43ea-8d4f-35f6bd798620",
   "metadata": {},
   "source": [
    "After constructing the OpenMM system of butane, we can save it in an XML formated text file, which can be used later for simulations. Therefore, if we want to use the same system in another script, we can just read the text file in an OpenMM system instead of constructing it again. This file is a readable text file and can be used to see what system information is used."
   ]
  },
  {
   "cell_type": "code",
   "execution_count": 7,
   "id": "68822d78-2eaa-4443-be15-31d348ad8b9a",
   "metadata": {},
   "outputs": [],
   "source": [
    "with open(\"../output/system.xml\", 'w') as file_handle:\n",
    "    file_handle.write(omm.XmlSerializer.serialize(system))"
   ]
  },
  {
   "cell_type": "code",
   "execution_count": 8,
   "id": "5bb34711-72cf-41af-9072-a18760456369",
   "metadata": {},
   "outputs": [],
   "source": [
    "## read the OpenMM system of butane\n",
    "with open(\"../output/system.xml\", 'r') as file_handle:\n",
    "    xml = file_handle.read()\n",
    "system = omm.XmlSerializer.deserialize(xml)\n",
    "\n",
    "## read psf and pdb file of butane\n",
    "psf = omm_app.CharmmPsfFile(\"../data/butane.psf\")\n",
    "pdb = omm_app.PDBFile('../data/butane.pdb')\n",
    "topology = psf.topology"
   ]
  },
  {
   "cell_type": "markdown",
   "id": "03aa0eee-4332-4e37-82a1-ee57a0556613",
   "metadata": {
    "jp-MarkdownHeadingCollapsed": true
   },
   "source": [
    "# 1.a Set up biased sampling"
   ]
  },
  {
   "cell_type": "code",
   "execution_count": 247,
   "id": "ced4ac59-3869-43ac-a549-f3459f394f84",
   "metadata": {},
   "outputs": [],
   "source": [
    "class CollectiveVars(nn.Module):\n",
    "    def __init__(self, activation, input_dim, hidden1_dim, hidden2_dim, encoder_dim):\n",
    "        super(CollectiveVars, self).__init__()\n",
    "        \n",
    "        # Defining the layers of the neural network\n",
    "        self.activation = activation\n",
    "        self.hidden1 = nn.Linear(input_dim, hidden1_dim)\n",
    "        \n",
    "        self.hidden2 = nn.Linear(hidden1_dim, hidden2_dim)\n",
    "        self.bottleneck = nn.Linear(hidden2_dim, encoder_dim)\n",
    "\n",
    "        # Collecting layers for convenience as encoder and decoder\n",
    "        self.Psif = nn.Sequential(self.hidden1, self.activation, self.hidden2, self.activation, self.bottleneck, nn.GELU())\n",
    "        \n",
    "    def Psi(self, x):\n",
    "        # print(x.device)\n",
    "        return self.Psif(x)\n",
    "    \n",
    "    # Required for any subclass of nn.module: defines how data passes through the `computational graph'\n",
    "    def forward(self, x):\n",
    "        return self.Psi(x)\n",
    "        \n",
    "activation = nn.ELU(alpha=5.0) \n",
    "input_dim = 16\n",
    "hidden1_dim = 32 # 45\n",
    "hidden2_dim = 32\n",
    "output_dim = 2 \n",
    "# output_dim = 2\n",
    "\n",
    "\n",
    "\n",
    "model_CV_dihedral = CollectiveVars(activation, input_dim, hidden1_dim, hidden2_dim, output_dim)\n",
    "model_CV_dihedral.load_state_dict(torch.load('model_CV_carbon_pretrained_7jul24', map_location='cpu'))\n",
    "model_CV_dihedral.eval()\n",
    "\n",
    "# freeze the model\n",
    "for param in model_CV_dihedral.parameters():\n",
    "    param.requires_grad = False"
   ]
  },
  {
   "cell_type": "code",
   "execution_count": null,
   "id": "823e6c58-a00f-4506-a1d4-818e89a24dbe",
   "metadata": {},
   "outputs": [],
   "source": [
    "# #  this network has not been tuned effectively and hence further adjustments should be made to improve performance\n",
    "# class CollectiveVarsDihedrals(nn.Module):\n",
    "#     def __init__(self, activation, input_dim, hidden1_dim, hidden2_dim, encoder_dim):\n",
    "#         super(CollectiveVarsDihedrals, self).__init__()\n",
    "        \n",
    "#         # Defining the layers of the neural network\n",
    "#         self.activation = activation\n",
    "#         self.hidden1 = nn.Linear(input_dim, hidden1_dim)\n",
    "#         self.hidden2 = nn.Linear(hidden1_dim, hidden2_dim)\n",
    "#         self.bottleneck = nn.Linear(hidden2_dim, encoder_dim)\n",
    "\n",
    "#         # Collecting layers for convenience as encoder and decoder\n",
    "#         self.Psif = nn.Sequential(self.hidden1, self.activation, self.hidden2, self.activation, self.bottleneck, nn.Tanh())\n",
    "        \n",
    "#     def Psi(self, x):\n",
    "#         return self.Psif(x)\n",
    "    \n",
    "#     def forward(self, x):\n",
    "#         return self.Psi(x)\n",
    "        \n",
    "# activation = nn.ELU(alpha=0.5) \n",
    "# input_dim = 12\n",
    "# hidden1_dim = 45\n",
    "# hidden2_dim = 50\n",
    "# output_dim = 2\n",
    "# model_CV_dihedral = CollectiveVarsDihedrals(activation,\\\n",
    "#                                             input_dim, \\\n",
    "#                                             hidden1_dim, hidden2_dim, output_dim)\n",
    "# model_CV_dihedral.load_state_dict(torch.load('model_CV_14thaug.zip'))\n",
    "# model_CV_dihedral.eval()\n",
    "\n",
    "# # freeze the model\n",
    "# for param in model_CV_dihedral.parameters():\n",
    "#     param.requires_grad = False\n"
   ]
  },
  {
   "cell_type": "code",
   "execution_count": 248,
   "id": "01b32db8-4087-491b-bdbb-f7e679d64926",
   "metadata": {},
   "outputs": [],
   "source": [
    "carbon_inds = [3,6,9,13]\n",
    "mask = torch.zeros(14, dtype=torch.bool)\n",
    "for i in carbon_inds: \n",
    "    mask[i] = True\n",
    "\n",
    "def compute_gram_matrix_recentered(x):\n",
    "    # n_atoms = int(x.shape[0]/3)\n",
    "    # coords = x.reshape((n_atoms,3))\n",
    "    rescaled_coords = x - torch.mean(x,dim=0).reshape(1,3)\n",
    "    gram = torch.matmul(rescaled_coords, rescaled_coords.T)\n",
    "    return gram.flatten()"
   ]
  },
  {
   "cell_type": "code",
   "execution_count": 249,
   "id": "d0e14bd4-f61c-42ad-8ce5-102b7e747c01",
   "metadata": {},
   "outputs": [],
   "source": [
    "class CV_test(nn.Module):\n",
    "    def __init__(self, atomic_numbers, idx, mask, single):\n",
    "\n",
    "        super().__init__()\n",
    "        carbon_inds = np.array([3,6,9,13])\n",
    "        self.mask = mask\n",
    "        # self.mask = nn.Linear(14,4)\n",
    "        self.CV = deepcopy(model_CV_dihedral)\n",
    "        self.idx = idx\n",
    "        # for i in range(4): \n",
    "        #     self.mask[i,carbon_inds[i]] = 1.0\n",
    "        if single:\n",
    "            self.m = nn.Flatten(0,-1)\n",
    "        else:\n",
    "            self.m = nn.Flatten(1,-1)\n",
    "        # Store the atomic numbers\n",
    "        # self.Linear1 = nn.Linear(atomic_numbers, 1)\n",
    "        # self.act = nn.ELU()\n",
    "\n",
    "    def forward(self, positions):\n",
    "        # print(f\"{positions.shape}\")\n",
    "        # carbons = positions[mask,:]\n",
    "        # carbons = torch.matmul(mask,positions)\n",
    "        # print(f\"{positions.device}\")\n",
    "        # print(f\"{self.mask.device}\")\n",
    "        carbons = 10*positions[self.mask, :]\n",
    "        gram_matrix = compute_gram_matrix_recentered(carbons)\n",
    "        # flat = self.m(gram_matrix)\n",
    "        # h = self.Linear1(flat)\n",
    "        h = self.CV(gram_matrix.float())\n",
    "        return h[self.idx]"
   ]
  },
  {
   "cell_type": "code",
   "execution_count": null,
   "id": "e458534a-bf26-4704-b0d1-f6e73150d91d",
   "metadata": {},
   "outputs": [],
   "source": [
    "cv_model_1 = CV_test(12, 0, mask, single = True)\n",
    "cv_model_2 = CV_test(12, 1, mask, single = True)"
   ]
  },
  {
   "cell_type": "code",
   "execution_count": null,
   "id": "951a8b93-3552-4250-8d00-54828fa31a59",
   "metadata": {},
   "outputs": [],
   "source": [
    "cv_model_1.to(device)\n",
    "cv_model_2.to(device)\n",
    "cv1 = torch.jit.script(cv_model_1)\n",
    "cv2 = torch.jit.script(cv_model_2)\n",
    "CV_force_1 = TorchForce(cv1)\n",
    "CV_force_2 = TorchForce(cv2)"
   ]
  },
  {
   "cell_type": "code",
   "execution_count": null,
   "id": "97a8b02d-5d8e-4396-b3bf-e58780403b16",
   "metadata": {},
   "outputs": [],
   "source": [
    "cv_1 = omm.CustomCVForce(\"cv1\")\n",
    "cv_1.addCollectiveVariable(\"cv1\",CV_force_1)\n",
    "\n",
    "cv_2 = omm.CustomCVForce(\"cv2\")\n",
    "cv_2.addCollectiveVariable(\"cv2\",CV_force_2)\n",
    "\n",
    "## add a harmonic biasing potential on butane dihedral to the OpenMM system\n",
    "# bias_cv = omm.CustomCVForce('0.5*Kappa*((theta1 - x1)^2 + (theta2 - x2)^2)')\n",
    "bias_cv = omm.CustomCVForce('0.5*Kappa*((theta2 - x2)^2)')\n",
    "bias_cv.addGlobalParameter(\"Kappa\", 500.0)\n",
    "# bias_cv.addGlobalParameter(\"x1\", 0.0)\n",
    "bias_cv.addGlobalParameter(\"x2\", 0.9)\n",
    "# bias_cv.addCollectiveVariable('theta1',cv_1)\n",
    "bias_cv.addCollectiveVariable(\"theta2\",cv_2)\n",
    "system.addForce(bias_cv)"
   ]
  },
  {
   "cell_type": "markdown",
   "id": "36b14317-3dbd-4d1e-a8eb-b668dcd3b4ee",
   "metadata": {},
   "source": [
    "# 1b. Dnet-based CV"
   ]
  },
  {
   "cell_type": "code",
   "execution_count": 9,
   "id": "21d90305-c6ec-4291-8dc5-18c72a8a9740",
   "metadata": {},
   "outputs": [],
   "source": [
    "device = 'cpu'"
   ]
  },
  {
   "cell_type": "code",
   "execution_count": 10,
   "id": "f5d89471-6729-4d96-8207-7bb907afbbc5",
   "metadata": {},
   "outputs": [],
   "source": [
    "from models_features import Encoder_deep, recenter_bond_torch"
   ]
  },
  {
   "cell_type": "code",
   "execution_count": 11,
   "id": "311affe1-fc7a-4d1c-b6f6-ab46316945be",
   "metadata": {},
   "outputs": [
    {
     "data": {
      "text/plain": [
       "Encoder_deep(\n",
       "  (activation): Tanh()\n",
       "  (hidden1): Linear(in_features=12, out_features=32, bias=True)\n",
       "  (hidden2): Linear(in_features=32, out_features=32, bias=True)\n",
       "  (hidden3): Linear(in_features=32, out_features=32, bias=True)\n",
       "  (hidden4): Linear(in_features=32, out_features=32, bias=True)\n",
       "  (bottleneck): Linear(in_features=32, out_features=2, bias=True)\n",
       "  (encoder): Sequential(\n",
       "    (0): Linear(in_features=12, out_features=32, bias=True)\n",
       "    (1): Tanh()\n",
       "    (2): Linear(in_features=32, out_features=32, bias=True)\n",
       "    (3): Tanh()\n",
       "    (4): Linear(in_features=32, out_features=32, bias=True)\n",
       "    (5): Tanh()\n",
       "    (6): Linear(in_features=32, out_features=32, bias=True)\n",
       "    (7): Tanh()\n",
       "    (8): Linear(in_features=32, out_features=2, bias=True)\n",
       "    (9): Tanh()\n",
       "  )\n",
       ")"
      ]
     },
     "execution_count": 11,
     "metadata": {},
     "output_type": "execute_result"
    }
   ],
   "source": [
    "# this defines the structure of the model\n",
    "activation = nn.Tanh() \n",
    "input_dim = 12\n",
    "hidden1_dim = 32\n",
    "hidden2_dim = 32\n",
    "hidden3_dim = 32\n",
    "hidden4_dim = 32\n",
    "encoder_dim = 2\n",
    "output_dim = 12\n",
    "model_encoder_reg = Encoder_deep(activation, input_dim, hidden1_dim, hidden2_dim, hidden3_dim, hidden4_dim, encoder_dim).to(device)\n",
    "model_encoder_reg.load_state_dict(torch.load(\"model_encoder_DNet_Laplacian_12sep2024_carbons\", map_location=device))\n",
    "model_encoder_reg.eval()"
   ]
  },
  {
   "cell_type": "code",
   "execution_count": 12,
   "id": "6c182773-23b1-47a8-9580-13ec82855a80",
   "metadata": {},
   "outputs": [],
   "source": [
    "carbon_inds = [3,6,9,13]\n",
    "mask = torch.zeros(14, dtype=torch.bool)\n",
    "for i in carbon_inds: \n",
    "    mask[i] = True   \n",
    "class collective_variable(nn.Module):\n",
    "    def __init__(self, mask, featurizer, Dnet): \n",
    "        super().__init__()\n",
    "        self.mask = mask\n",
    "        self.featurizer = featurizer\n",
    "        self.Dnet = Dnet\n",
    "    def forward(self,x):\n",
    "        x = 10*x[self.mask, :]\n",
    "        x = self.featurizer(x) \n",
    "        x = self.Dnet(x.float())\n",
    "        return torch.norm(x)**2"
   ]
  },
  {
   "cell_type": "code",
   "execution_count": 13,
   "id": "bb70d830-d0fa-45bd-a391-8bf8573392ea",
   "metadata": {},
   "outputs": [],
   "source": [
    "cv_model_2 = collective_variable(mask, recenter_bond_torch, model_encoder_reg)"
   ]
  },
  {
   "cell_type": "code",
   "execution_count": 14,
   "id": "f67a5b39-34ba-40ee-9b13-d17f4140ec4c",
   "metadata": {},
   "outputs": [],
   "source": [
    "# cv_model_1.to(device)\n",
    "# cv_model_2.to(device)\n",
    "# cv1 = torch.jit.script(cv_model_1)\n",
    "cv2 = torch.jit.script(cv_model_2)\n",
    "# CV_force_1 = TorchForce(cv1)\n",
    "CV_force_2 = TorchForce(cv2)"
   ]
  },
  {
   "cell_type": "code",
   "execution_count": 15,
   "id": "e984ff84-8c7e-4d1e-a0b4-44cb1f6638d0",
   "metadata": {},
   "outputs": [
    {
     "data": {
      "text/plain": [
       "8"
      ]
     },
     "execution_count": 15,
     "metadata": {},
     "output_type": "execute_result"
    }
   ],
   "source": [
    "# cv_1 = omm.CustomCVForce(\"cv1\")\n",
    "# cv_1.addCollectiveVariable(\"cv1\",CV_force_1)\n",
    "\n",
    "cv_2 = omm.CustomCVForce(\"cv2\")\n",
    "cv_2.addCollectiveVariable(\"cv2\",CV_force_2)\n",
    "\n",
    "## add a harmonic biasing potential on butane dihedral to the OpenMM system\n",
    "# bias_cv = omm.CustomCVForce('0.5*Kappa*((theta1 - x1)^2 + (theta2 - x2)^2)')\n",
    "# bias_cv = omm.CustomCVForce('0.5*Kappa*((theta2 - x2)^2)')\n",
    "bias_cv = omm.CustomCVForce('0.5*Kappa*diff^2; diff=abs(theta2 - x2)')\n",
    "bias_cv.addGlobalParameter(\"Kappa\", 500.0)\n",
    "# bias_cv.addGlobalParameter(\"x1\", 0.0)\n",
    "bias_cv.addGlobalParameter(\"x2\", 0.0)\n",
    "# bias_cv.addCollectiveVariable('theta1',cv_1)\n",
    "bias_cv.addCollectiveVariable(\"theta2\",cv_2)\n",
    "system.addForce(bias_cv)"
   ]
  },
  {
   "cell_type": "markdown",
   "id": "38a18934-bb61-4539-93c0-1400b7723d4e",
   "metadata": {},
   "source": [
    "# 2. Set up and get data"
   ]
  },
  {
   "cell_type": "markdown",
   "id": "657b2036-921e-4483-bb89-f33d164c4fb6",
   "metadata": {},
   "source": [
    "First we get the parameters of the system"
   ]
  },
  {
   "cell_type": "code",
   "execution_count": 34,
   "id": "c024daa8-5316-454f-acd0-0accec086bda",
   "metadata": {},
   "outputs": [],
   "source": [
    "#### setup an OpenMM context\n",
    "\n",
    "## platform\n",
    "platform = omm.Platform.getPlatformByName('CPU')\n",
    "\n",
    "## integrator\n",
    "# T = 298.15 * unit.kelvin  ## temperature\n",
    "T = 300 * unit.kelvin\n",
    "kbT = unit.BOLTZMANN_CONSTANT_kB * T * unit.AVOGADRO_CONSTANT_NA \n",
    "kbT = kbT.value_in_unit(unit.kilojoule_per_mole)\n",
    "\n",
    "kbT_roomtemp = unit.BOLTZMANN_CONSTANT_kB*unit.AVOGADRO_CONSTANT_NA*300.0*unit.kelvin\n",
    "kbT_roomtemp = kbT_roomtemp.value_in_unit(unit.kilojoule_per_mole)\n",
    "\n",
    "\n",
    "## integrator\n",
    "fricCoef = 10/unit.picoseconds ## friction coefficient \n",
    "# stepsize = 2 * unit.femtoseconds ## integration step size\n",
    "stepsize = 1 * unit.femtoseconds\n",
    "integrator = omm.LangevinMiddleIntegrator(T, fricCoef, stepsize)\n",
    "\n",
    "## construct an OpenMM context\n",
    "# context = omm.Context(system, integrator, platform)\n",
    "simulation = omm_app.Simulation(topology, system, integrator, platform)\n",
    "\n",
    "# M = 5\n",
    "# x1 = np.linspace(-1, 1, M, endpoint = False)"
   ]
  },
  {
   "cell_type": "markdown",
   "id": "c374bad2-060f-4d2b-a51c-738fcc453aea",
   "metadata": {},
   "source": [
    "# 2b. Get saved data"
   ]
  },
  {
   "cell_type": "code",
   "execution_count": 254,
   "id": "ce55b089-1e9c-4822-82aa-c3fe5a0f4091",
   "metadata": {},
   "outputs": [],
   "source": [
    "data_dic = dict(np.load(f\"../output/traj_current/jul15_1dCV/sim16/butane_metad_carbons_jul9.npz\", allow_pickle=True))\n",
    "data_CV = data_dic['dataCV']\n",
    "free_energy = data_dic['free_energy'].item()\n",
    "evaluation_points = free_energy['evaluation points']"
   ]
  },
  {
   "cell_type": "markdown",
   "id": "b1d7f4e1-856f-4e84-b754-1b583cd15d79",
   "metadata": {},
   "source": [
    "Next we get data via `mdtraj`"
   ]
  },
  {
   "cell_type": "code",
   "execution_count": 21,
   "id": "d616668e-dcee-4a36-b1a3-77522cca8f95",
   "metadata": {},
   "outputs": [
    {
     "name": "stderr",
     "output_type": "stream",
     "text": [
      "/export/ssule25/miniconda3/envs/ptorch/lib/python3.11/site-packages/MDAnalysis/coordinates/DCD.py:165: DeprecationWarning: DCDReader currently makes independent timesteps by copying self.ts while other readers update self.ts inplace. This behavior will be changed in 3.0 to be the same as other readers. Read more at https://github.com/MDAnalysis/mdanalysis/issues/3889 to learn if this change in behavior might affect you.\n",
      "  warnings.warn(\"DCDReader currently makes independent timesteps\"\n",
      "/export/ssule25/miniconda3/envs/ptorch/lib/python3.11/site-packages/MDAnalysis/coordinates/DCD.py:326: DeprecationWarning: asel argument to timeseries will be renamed to'atomgroup' in 3.0, see #3911\n",
      "  warnings.warn(\n"
     ]
    }
   ],
   "source": [
    "mobile = mda.Universe(\"../data/butane.psf\", \"../output/traj_current/traj_metad_aug1.dcd\")\n",
    "trajectory = torch.Tensor(mobile.trajectory.timeseries(mobile.atoms))"
   ]
  },
  {
   "cell_type": "markdown",
   "id": "47a61a8c-a78d-4676-b960-bf9ad4db29d0",
   "metadata": {},
   "source": [
    "# 2c. Alternative: generate CV data"
   ]
  },
  {
   "cell_type": "code",
   "execution_count": 22,
   "id": "22e0217e-783c-4f14-acff-524ec9281cf3",
   "metadata": {},
   "outputs": [
    {
     "name": "stderr",
     "output_type": "stream",
     "text": [
      "100%|█████████████████████████████████████| 4707/4707 [00:02<00:00, 2192.22it/s]\n"
     ]
    }
   ],
   "source": [
    "cv_model_2.eval()\n",
    "data_CV = torch.zeros((len(mobile.trajectory), 1))\n",
    "trajectory = torch.Tensor(mobile.trajectory.timeseries(mobile.atoms)).to(device)\n",
    "for i in tqdm(range(len(mobile.trajectory))):\n",
    "    # mobile.trajectory[i]\n",
    "    x = trajectory[:,i,:]\n",
    "    # x = torch.tensor(mobile.atoms.positions, dtype=torch.float64).to(device)\n",
    "    # print(f\"{x[0,0]}\")\n",
    "    # print(f\"cv 1: {cv_model_1(x)}, cv 2: {cv_model_2(x)}\")\n",
    "    # data[i,0] = cv_model_1(0.1*x) # multiply the input point by 0.1 because the DCD files are all in 10nm. \n",
    "    data_CV[i,0] = cv_model_2(0.1*x)\n",
    "    # print(f\"CV 1: {cv_model_1(x)}, CV 2:  {cv_model_2(x)}\")\n",
    "data_CV = data_CV.detach().numpy()\n",
    "evaluation_points = np.linspace(0.0,0.03,1000)"
   ]
  },
  {
   "cell_type": "markdown",
   "id": "e8239bfe-6570-4341-ac31-9f2ad3ac8283",
   "metadata": {
    "jp-MarkdownHeadingCollapsed": true
   },
   "source": [
    "## Detour: construct dihedrals"
   ]
  },
  {
   "cell_type": "code",
   "execution_count": null,
   "id": "b79e76c4-bf6a-4c78-9dde-86975fe9f660",
   "metadata": {},
   "outputs": [],
   "source": [
    "dihedrals = np.loadtxt( f\"../output/traj_current/dihedral_metad_apr2.csv\", delimiter = \",\")\n",
    "\n",
    "# shift dihedrals from [-pi, pi] to [0, 2pi]\n",
    "dihedrals[dihedrals < 0] = dihedrals[dihedrals < 0] + 2*np.pi\n",
    "\n",
    "_ = plt.hist(dihedrals, bins=50, density=True)"
   ]
  },
  {
   "cell_type": "code",
   "execution_count": null,
   "id": "32f23c4f-bc77-4115-ba73-c1ac3c2e9e69",
   "metadata": {},
   "outputs": [],
   "source": [
    "step = 10\n",
    "data = torch.zeros((len(mobile.trajectory)//step, 2))\n",
    "angles = torch.zeros((len(mobile.trajectory)//step, 1))\n",
    "indices = []\n",
    "N_samples = len(mobile.trajectory)//step\n",
    "for i in tqdm(range(data.shape[0])):\n",
    "    mobile.trajectory[step*i]\n",
    "    indices.append(step*i)\n",
    "    x = torch.tensor(mobile.atoms.positions, dtype=torch.float64).to(device)\n",
    "    data[i,0] = cv_model_1(0.1*x) # multiply the input point by 0.1 because the DCD files are all in 10nm. \n",
    "    data[i,1] = cv_model_2(0.1*x)\n",
    "    angles[i] = dihedrals[step*i]"
   ]
  },
  {
   "cell_type": "code",
   "execution_count": null,
   "id": "a0a1aae7-a2dc-45ca-bdad-74c3ca87e87c",
   "metadata": {},
   "outputs": [],
   "source": [
    "# # subsample for new data\n",
    "# N_samples=10\n",
    "# idx = np.round(np.linspace(0, data.shape[0]-1, N_samples)).astype(int)\n",
    "# final_traj = data[idx,:] \n",
    "# final_angles = angles[idx]"
   ]
  },
  {
   "cell_type": "code",
   "execution_count": null,
   "id": "b99d8920-ef0d-45f7-8030-061ed300d19b",
   "metadata": {},
   "outputs": [],
   "source": [
    "angles_ref = np.abs(angles - np.pi)"
   ]
  },
  {
   "cell_type": "code",
   "execution_count": null,
   "id": "964eb186-7821-42ed-8406-0793243e5746",
   "metadata": {},
   "outputs": [],
   "source": [
    "plt.scatter(data[:,0], data[:,1], c=angles_ref, cmap='jet')\n",
    "plt.xlim([0.0,2.0])\n",
    "plt.ylim([0.0,2.0])\n",
    "plt.colorbar()"
   ]
  },
  {
   "cell_type": "markdown",
   "id": "815fb8a5-f458-4b5f-b74f-4633a15fa8d2",
   "metadata": {},
   "source": [
    "# 3a. Sampling short trajectories: 1D CV"
   ]
  },
  {
   "cell_type": "code",
   "execution_count": 23,
   "id": "b87ec930-5567-471e-9bac-5950493d623c",
   "metadata": {},
   "outputs": [],
   "source": [
    "simulation.integrator.setStepSize(0.01*unit.femtoseconds)\n",
    "simulation.context.setParameter(\"Kappa\",10000.0)\n",
    "# simulation.context.setPositions(pdb.positions)"
   ]
  },
  {
   "cell_type": "code",
   "execution_count": 17,
   "id": "464f42bf-3f41-4f4c-8dcc-d4158e44ff15",
   "metadata": {},
   "outputs": [],
   "source": [
    "evaluation_points = np.linspace(0.0,0.03,1000)\n",
    "N = evaluation_points.shape[0]\n",
    "N_samples = N\n",
    "period = N // N_samples"
   ]
  },
  {
   "cell_type": "code",
   "execution_count": 25,
   "id": "03a4f539-6c2a-4b8f-9ae4-9a099b80ff97",
   "metadata": {},
   "outputs": [],
   "source": [
    "index = 7"
   ]
  },
  {
   "cell_type": "code",
   "execution_count": 26,
   "id": "f69bfec1-0392-44a5-96f9-f7eacbccd47f",
   "metadata": {},
   "outputs": [],
   "source": [
    "simulation.context.setParameter(\"x2\", evaluation_points[index*period])\n",
    "# figure out the configuration that leads to this value: \n",
    "current_point = evaluation_points[index*period]\n",
    "config_index = np.argmin(np.abs(current_point - data_CV))\n",
    "initial_pt = trajectory[:,config_index,:].detach().numpy()\n",
    "# simulation.context.setPositions(0.1*mobile.atoms.positions)\n",
    "simulation.context.setPositions(0.1*initial_pt)"
   ]
  },
  {
   "cell_type": "code",
   "execution_count": 27,
   "id": "56839f31-24e1-4247-badc-3bd7b59ec8f0",
   "metadata": {},
   "outputs": [],
   "source": [
    "omm.LocalEnergyMinimizer.minimize(simulation.context,1,100)"
   ]
  },
  {
   "cell_type": "code",
   "execution_count": 69,
   "id": "7ca7100a-8379-4569-90c6-e7c8bc75ae4c",
   "metadata": {},
   "outputs": [],
   "source": [
    "state = simulation.context.getState(getPositions=True)"
   ]
  },
  {
   "cell_type": "code",
   "execution_count": 107,
   "id": "50db6c2a-26b0-4304-bc8a-0ba19859896c",
   "metadata": {},
   "outputs": [
    {
     "name": "stderr",
     "output_type": "stream",
     "text": [
      "100%|█████████████████████████████████████████| 100/100 [00:08<00:00, 12.09it/s]\n",
      "100%|█████████████████████████████████████████| 100/100 [00:08<00:00, 11.92it/s]\n",
      "100%|█████████████████████████████████████████| 100/100 [00:08<00:00, 11.84it/s]\n",
      "100%|█████████████████████████████████████████| 100/100 [00:08<00:00, 11.83it/s]\n",
      "100%|█████████████████████████████████████████| 100/100 [00:08<00:00, 11.64it/s]\n",
      "100%|█████████████████████████████████████████| 100/100 [00:08<00:00, 11.68it/s]\n",
      "100%|█████████████████████████████████████████| 100/100 [00:08<00:00, 11.73it/s]\n",
      "100%|█████████████████████████████████████████| 100/100 [00:08<00:00, 11.73it/s]\n",
      "100%|█████████████████████████████████████████| 100/100 [00:08<00:00, 12.00it/s]\n",
      "100%|█████████████████████████████████████████| 100/100 [00:08<00:00, 11.80it/s]\n"
     ]
    }
   ],
   "source": [
    "for index in range(N_samples):\n",
    "\n",
    "    simulation.context.setParameter(\"x2\", evaluation_points[index*period])\n",
    "    \n",
    "    # figure out the configuration that leads to this value: \n",
    "    current_point = evaluation_points[index*period]\n",
    "    config_index = np.argmin(np.abs(current_point - data_CV))\n",
    "    \n",
    "    # set position: this circumvents having to do energy minimization \n",
    "    # mobile.trajectory[config_index] \n",
    "    initial_pt = trajectory[:,config_index,:].detach().cpu().numpy()\n",
    "    # simulation.context.setPositions(0.1*mobile.atoms.positions)\n",
    "    simulation.context.setPositions(0.1*initial_pt)\n",
    "    # omm.LocalEnergyMinimizer.minimize(simulation.context,0.1,100)\n",
    "    # integrator.step(5000)\n",
    "    \n",
    "    # open files\n",
    "    state = simulation.context.getState(getEnergy = True)\n",
    "    file_handle = open(f\"../output/traj_current/short_traj/traj_{index}.dcd\", 'bw')\n",
    "    dcd_file = omm_app.dcdfile.DCDFile(file_handle, psf.topology, dt = stepsize)\n",
    "    \n",
    "    # run the short burst and save\n",
    "    for k in tqdm(range(100)):\n",
    "        # print(\"stepping..\")\n",
    "        integrator.step(10)\n",
    "        # print(\"saving...\")\n",
    "        state = simulation.context.getState(getPositions = True)\n",
    "        positions = state.getPositions()\n",
    "        dcd_file.writeModel(positions)\n",
    "    file_handle.close()"
   ]
  },
  {
   "cell_type": "code",
   "execution_count": 108,
   "id": "e96b79e3-c747-415a-8faa-bc079ce6aed4",
   "metadata": {},
   "outputs": [],
   "source": [
    "state = simulation.context.getState(getEnergy=True)"
   ]
  },
  {
   "cell_type": "code",
   "execution_count": 109,
   "id": "5f0bfe1a-6d0a-4b1e-bcf0-86b79c3736d3",
   "metadata": {},
   "outputs": [
    {
     "data": {
      "text/plain": [
       "Quantity(value=72.85161716079683, unit=kilojoule/mole)"
      ]
     },
     "execution_count": 109,
     "metadata": {},
     "output_type": "execute_result"
    }
   ],
   "source": [
    "state.getPotentialEnergy()"
   ]
  },
  {
   "cell_type": "markdown",
   "id": "3ebd4d78-7e9a-4eec-aef7-3596a1432af0",
   "metadata": {},
   "source": [
    "# Sampling short trajectories"
   ]
  },
  {
   "cell_type": "code",
   "execution_count": null,
   "id": "251042e8-a172-4eed-ad4d-c61b67b52f5f",
   "metadata": {},
   "outputs": [],
   "source": [
    "## the main loop to run umbrella sampling window by window\n",
    "for index in tqdm(range(N_samples)):\n",
    "    # print(f\"sampling at theta0 index: {index} out of {N_samples}\")\n",
    "    \n",
    "    ## set the center of the biasing potential\n",
    "    simulation.context.setParameter(\"x1\", data[index,0].item())\n",
    "    simulation.context.setParameter(\"x2\", data[index,1].item())\n",
    "    simulation.context.setParameter(\"Kappa\", 500.0)\n",
    "    mobile.trajectory[indices[index]]\n",
    "    simulation.context.setPositions(0.1*mobile.atoms.positions)\n",
    "    ## minimize\n",
    "    # simulation.context.setPositions(pdb.positions)\n",
    "    state = simulation.context.getState(getEnergy = True)\n",
    "    # energy = state.getPotentialEnergy()\n",
    "    # for i in range(40):\n",
    "    #     omm.LocalEnergyMinimizer.minimize(simulation.context, 1, 20)\n",
    "    #     state = simulation.context.getState(getEnergy = True)\n",
    "    #     # energy = state.getPotentialEnergy()\n",
    "\n",
    "    ## initial equilibrium\n",
    "    # integrator.step(5000)\n",
    "\n",
    "    ## sampling production. trajectories are saved in dcd files\n",
    "    file_handle = open(f\"../output/traj_current/short_traj/traj_{index}.dcd\", 'bw')\n",
    "    dcd_file = omm_app.dcdfile.DCDFile(file_handle, psf.topology, dt = stepsize)\n",
    "    # file_name = f\"../output/traj_current/short_traj/traj_{index}.dcd\"\n",
    "    # simulation.reporters.append(omm_app.DCDReporter(file_name, int(1E1)))\n",
    "    for k in range(500):\n",
    "        # print(\"stepping..\")\n",
    "        integrator.step(10)\n",
    "        # print(\"saving...\")\n",
    "        state = simulation.context.getState(getPositions = True)\n",
    "        positions = state.getPositions()\n",
    "        dcd_file.writeModel(positions)\n",
    "    file_handle.close()\n",
    "    # simulation.reporters.pop()"
   ]
  },
  {
   "cell_type": "markdown",
   "id": "65e4f825-9edd-4c7f-8fd4-182d379d08ac",
   "metadata": {},
   "source": [
    "# 4a. Analyze traj for 1D CV"
   ]
  },
  {
   "cell_type": "code",
   "execution_count": 57,
   "id": "fb261229-68f2-4dcb-9e5e-0c1f68c7772a",
   "metadata": {},
   "outputs": [
    {
     "data": {
      "text/plain": [
       "tensor([False, False, False,  True, False, False,  True, False, False,  True,\n",
       "        False, False, False,  True])"
      ]
     },
     "execution_count": 57,
     "metadata": {},
     "output_type": "execute_result"
    }
   ],
   "source": [
    "mask"
   ]
  },
  {
   "cell_type": "code",
   "execution_count": 110,
   "id": "38b4d8a8-7f6a-446a-a1ac-3f54f89ee1da",
   "metadata": {},
   "outputs": [
    {
     "name": "stderr",
     "output_type": "stream",
     "text": [
      "  0%|                                                    | 0/10 [00:00<?, ?it/s]/export/ssule25/miniconda3/envs/ptorch/lib/python3.11/site-packages/MDAnalysis/coordinates/DCD.py:165: DeprecationWarning: DCDReader currently makes independent timesteps by copying self.ts while other readers update self.ts inplace. This behavior will be changed in 3.0 to be the same as other readers. Read more at https://github.com/MDAnalysis/mdanalysis/issues/3889 to learn if this change in behavior might affect you.\n",
      "  warnings.warn(\"DCDReader currently makes independent timesteps\"\n",
      "/export/ssule25/miniconda3/envs/ptorch/lib/python3.11/site-packages/MDAnalysis/coordinates/memory.py:535: DeprecationWarning: asel argument to timeseries will be renamed to'atomgroup' in 3.0, see #3911\n",
      "  warnings.warn(\n",
      "100%|███████████████████████████████████████████| 10/10 [00:01<00:00,  5.49it/s]\n"
     ]
    }
   ],
   "source": [
    "M = []\n",
    "# i = 1\n",
    "for i in tqdm(range(N_samples)):\n",
    "\n",
    "    # get short traj data \n",
    "    ref = mda.Universe(\"../data/butane.psf\", f\"../output/traj_current/short_traj/traj_{i}.dcd\", in_memory=True)\n",
    "    coordinates = torch.tensor(ref.trajectory.timeseries(ref.atoms)).to(device)\n",
    "    coords = 0.1*coordinates.permute(1,0,2)\n",
    "\n",
    "    # set up jacobians \n",
    "    # jmat1 = torch.zeros(coords.shape)\n",
    "    jmat2 = torch.zeros(coords.shape)\n",
    "    for j in range(100):\n",
    "    #     # jmat1[:,:,j] = torch.autograd.functional.jacobian(cv_model_1, 0.1*coords[:,:,j])\n",
    "         jmat2[j,:,:] = torch.autograd.functional.jacobian(lambda x: cv_model_2(x), coords[j,:,:])\n",
    "    # jj = torch.autograd.functional.jacobian(lambda x: cv_model_2(x),\\\n",
    "    #                                     coords)\n",
    "    # compute diff tensor \n",
    "    # diff_tensor = (1/100)*torch.tensor([[torch.sum(jmat1*jmat1), torch.sum(jmat1*jmat2)], [torch.sum(jmat2*jmat1), torch.sum(jmat2*jmat2)]])\n",
    "    diff_tensor = (1/100)*torch.sum(jmat2**2)\n",
    "    # diff_tensor = (1/100)*torch.norm(jj)**2\n",
    "    M.append(diff_tensor.numpy())"
   ]
  },
  {
   "cell_type": "code",
   "execution_count": 111,
   "id": "6a9da5ac-aaf1-4f3a-8827-a8bdace332b0",
   "metadata": {},
   "outputs": [
    {
     "data": {
      "text/plain": [
       "[array(0.00908232, dtype=float32),\n",
       " array(0.02638608, dtype=float32),\n",
       " array(0.04747396, dtype=float32),\n",
       " array(0.09636752, dtype=float32),\n",
       " array(0.0935742, dtype=float32),\n",
       " array(0.09359419, dtype=float32),\n",
       " array(0.09457675, dtype=float32),\n",
       " array(0.12414876, dtype=float32),\n",
       " array(0.09441697, dtype=float32),\n",
       " array(0.10221568, dtype=float32)]"
      ]
     },
     "execution_count": 111,
     "metadata": {},
     "output_type": "execute_result"
    }
   ],
   "source": [
    "M"
   ]
  },
  {
   "cell_type": "markdown",
   "id": "b28a5182-5e63-4bec-af83-88aafd57bfe8",
   "metadata": {},
   "source": [
    "# 4b. Analyze traj"
   ]
  },
  {
   "cell_type": "code",
   "execution_count": null,
   "id": "3720591b-5923-41ef-9468-478957aa7d49",
   "metadata": {},
   "outputs": [],
   "source": [
    "M = []\n",
    "# i = 1\n",
    "for i in tqdm(range(N_samples)):\n",
    "\n",
    "    # get short traj data \n",
    "    ref = mda.Universe(\"../data/butane.psf\", f\"../output/traj_current/short_traj/traj_{i}.dcd\", in_memory=True)\n",
    "    # mobile =  mda.Universe(\"../data/butane.psf\", f\"../output/traj_current/short_traj/traj_{i}.dcd\")\n",
    "    # ref.trajectory[0]\n",
    "    # mobile.trajectory[-1]\n",
    "    # align.AlignTraj(mobile, ref, filename=f\"../output/traj_current/short_traj/traj_aligned_{i}.dcd\").run()\n",
    "    # traj = mda.Universe(\"../data/butane.psf\", f\"../output/traj_current/short_traj/traj_aligned_{i}.dcd\", in_memory=True)\n",
    "    coordinates = torch.tensor(ref.trajectory.timeseries(ref.atoms)).to(device)\n",
    "    coords = coordinates.permute(0,2,1)\n",
    "\n",
    "    # set up jacobians \n",
    "    jmat1 = torch.zeros(coords.shape)\n",
    "    jmat2 = torch.zeros(coords.shape)\n",
    "    for j in range(100):\n",
    "        jmat1[:,:,j] = torch.autograd.functional.jacobian(cv_model_1, 0.1*coords[:,:,j])\n",
    "        jmat2[:,:,j] = torch.autograd.functional.jacobian(cv_model_2, 0.1*coords[:,:,j])\n",
    "\n",
    "    # compute diff tensor \n",
    "    diff_tensor = (1/100)*torch.tensor([[torch.sum(jmat1*jmat1), torch.sum(jmat1*jmat2)], [torch.sum(jmat2*jmat1), torch.sum(jmat2*jmat2)]])\n",
    "    M.append(diff_tensor.numpy())\n"
   ]
  },
  {
   "cell_type": "code",
   "execution_count": 66,
   "id": "1478c3fc-073f-4309-8811-3ad085ded641",
   "metadata": {},
   "outputs": [],
   "source": [
    "jj = torch.autograd.functional.jacobian(lambda x: model_CV(model_encoder_reg(feature_layer(x))),\\\n",
    "                                        coords)"
   ]
  },
  {
   "cell_type": "code",
   "execution_count": 18,
   "id": "812b5e6b-f084-4476-8419-3893eea64f55",
   "metadata": {},
   "outputs": [
    {
     "name": "stderr",
     "output_type": "stream",
     "text": [
      "100%|███████████████████████████████████████| 1000/1000 [00:48<00:00, 20.51it/s]\n"
     ]
    }
   ],
   "source": [
    "avg_cv_means = []\n",
    "avg_cv_std = []\n",
    "for j in tqdm(range(N)):\n",
    "    ref = mda.Universe(\"../data/butane.psf\", f\"../output/traj_current/short_traj/traj_{j}.dcd\", in_memory=True)\n",
    "    coords = torch.Tensor(ref.trajectory.timeseries(ref.atoms)).to(device)\n",
    "    cv=[]\n",
    "    for i in range(coords.shape[1]): \n",
    "        cv_val = cv_model_2(0.1*coords[:,i,:])\n",
    "        cv.append(cv_val.detach().cpu().numpy())\n",
    "    avg_cv_means.append(np.mean(np.array(cv)))\n",
    "    avg_cv_std.append(np.std(np.array(cv)))"
   ]
  },
  {
   "cell_type": "code",
   "execution_count": 19,
   "id": "aa8d1c57-9a1c-46d2-8d80-2c3a607ea3ee",
   "metadata": {},
   "outputs": [
    {
     "data": {
      "text/plain": [
       "[<matplotlib.lines.Line2D at 0x7f331ea12bd0>]"
      ]
     },
     "execution_count": 19,
     "metadata": {},
     "output_type": "execute_result"
    },
    {
     "data": {
      "image/png": "[encoded data removed]",
      "text/plain": [
       "<Figure size 640x480 with 1 Axes>"
      ]
     },
     "metadata": {},
     "output_type": "display_data"
    }
   ],
   "source": [
    "plt.plot(evaluation_points[::period],np.array(avg_cv_means))"
   ]
  },
  {
   "cell_type": "markdown",
   "id": "cdd9d28d-680a-46bf-adcd-32cb67dbba5b",
   "metadata": {},
   "source": [
    "# 4c. Use the WHAM method for computing free energies"
   ]
  },
  {
   "cell_type": "code",
   "execution_count": 20,
   "id": "4f11f462-d773-42de-8e52-bd2d4b7ac3f4",
   "metadata": {},
   "outputs": [],
   "source": [
    "from FastMBAR import *"
   ]
  },
  {
   "cell_type": "code",
   "execution_count": 21,
   "id": "3ffdf6d4-92b6-4bf2-a353-54d52ccb35fd",
   "metadata": {},
   "outputs": [],
   "source": [
    "# feature_map = torch.vmap(compute_gram_matrix_recentered)"
   ]
  },
  {
   "cell_type": "code",
   "execution_count": 49,
   "id": "d7da78cc-ffff-4e38-ae0e-ad940cc975bc",
   "metadata": {},
   "outputs": [],
   "source": [
    "N_samples = 100\n",
    "N = evaluation_points.shape[0]\n",
    "period = N // N_samples"
   ]
  },
  {
   "cell_type": "code",
   "execution_count": 50,
   "id": "5f8a8ad6-a23f-444e-9e8d-174d814b7944",
   "metadata": {},
   "outputs": [
    {
     "name": "stderr",
     "output_type": "stream",
     "text": [
      "  0%|                                                   | 0/100 [00:00<?, ?it/s]/export/ssule25/miniconda3/envs/ptorch/lib/python3.11/site-packages/MDAnalysis/coordinates/DCD.py:165: DeprecationWarning: DCDReader currently makes independent timesteps by copying self.ts while other readers update self.ts inplace. This behavior will be changed in 3.0 to be the same as other readers. Read more at https://github.com/MDAnalysis/mdanalysis/issues/3889 to learn if this change in behavior might affect you.\n",
      "  warnings.warn(\"DCDReader currently makes independent timesteps\"\n",
      "/export/ssule25/miniconda3/envs/ptorch/lib/python3.11/site-packages/MDAnalysis/coordinates/memory.py:535: DeprecationWarning: asel argument to timeseries will be renamed to'atomgroup' in 3.0, see #3911\n",
      "  warnings.warn(\n",
      "100%|█████████████████████████████████████████| 100/100 [00:04<00:00, 20.39it/s]\n"
     ]
    }
   ],
   "source": [
    "cv = []\n",
    "num_conf = [] \n",
    "for j in tqdm(range(N_samples)):\n",
    "    index = period*j\n",
    "    mobile = mda.Universe(\"../data/butane.psf\", f\"../output/traj_current/short_traj/traj_{j}.dcd\", in_memory=True)\n",
    "    trajectory = torch.permute(torch.Tensor(mobile.trajectory.timeseries(mobile.atoms)).to(device), (1,0,2))\n",
    "    for i in range(trajectory.shape[0]):\n",
    "        cv_val = cv_model_2(0.1*trajectory[i,:,:])\n",
    "        cv.append(cv_val.detach().numpy().flatten())\n",
    "    # cv.append(cv_data)\n",
    "    num_conf.append(i+1)"
   ]
  },
  {
   "cell_type": "code",
   "execution_count": 51,
   "id": "ef3e058f-03d3-4cad-b962-70737eb93297",
   "metadata": {},
   "outputs": [],
   "source": [
    "cv = np.array(cv).flatten()\n",
    "num_conf = np.array(num_conf).flatten()\n",
    "A = np.zeros((num_conf.shape[0], cv.shape[0]))"
   ]
  },
  {
   "cell_type": "code",
   "execution_count": 52,
   "id": "371b8291-817d-4e54-bf31-3c6281930393",
   "metadata": {},
   "outputs": [
    {
     "name": "stderr",
     "output_type": "stream",
     "text": [
      "100%|██████████████████████████████████████| 100/100 [00:00<00:00, 69224.36it/s]\n"
     ]
    }
   ],
   "source": [
    "for j in tqdm(range(N_samples)): \n",
    "    current_point = evaluation_points[j*period] \n",
    "    A[j,:] = (1/kbT)*0.5*10000.0*np.abs(current_point - cv)**2"
   ]
  },
  {
   "cell_type": "code",
   "execution_count": 53,
   "id": "45472266-c0c2-43a9-a29e-46554d7de269",
   "metadata": {},
   "outputs": [
    {
     "name": "stdout",
     "output_type": "stream",
     "text": [
      "==================================================================\n",
      "                RUNNING THE NEWTON'S METHOD                     \n",
      "\n",
      "                           * * *                                \n",
      "\n",
      "                    Tolerance EPS = 1.00000E-12                  \n",
      "\n",
      "At iterate    0; f= 8.76625E+00; |1/2*Newton_decrement^2|: 1.48058E-31\n",
      "\n",
      "N_iter   = total number of iterations\n",
      "N_func   = total number of function and gradient evaluations\n",
      "F        = final function value \n",
      "\n",
      "             * * *     \n",
      "\n",
      "N_iter    N_func        F\n",
      "     1         1    8.766247E+00\n",
      "  F = 8.766247287167 \n",
      "\n",
      "CONVERGENCE: 1/2*Newton_decrement^2 < EPS\n",
      "Relative free energies:  [-0.42843014 -0.43155682 -0.43432282 -0.43672814 -0.43877279 -0.44045675\n",
      " -0.44178004 -0.44274266 -0.4433446  -0.44358586 -0.44346645 -0.44298637\n",
      " -0.44214561 -0.44094417 -0.43938207 -0.43745929 -0.43517584 -0.43253171\n",
      " -0.42952692 -0.42616145 -0.42243531 -0.4183485  -0.41390102 -0.40909288\n",
      " -0.40392406 -0.39839457 -0.39250442 -0.3862536  -0.37964211 -0.37266995\n",
      " -0.36533713 -0.35764364 -0.34958948 -0.34117466 -0.33239917 -0.32326302\n",
      " -0.3137662  -0.30390872 -0.29369058 -0.28311177 -0.2721723  -0.26087217\n",
      " -0.24921137 -0.23718992 -0.2248078  -0.21206503 -0.19896159 -0.18549749\n",
      " -0.17167273 -0.15748732 -0.14294124 -0.12803451 -0.11276712 -0.09713912\n",
      " -0.08115036 -0.06480105 -0.04809098 -0.03102036 -0.01358897  0.00420296\n",
      "  0.02235565  0.04086889  0.0597429   0.07897744  0.09857275  0.1185286\n",
      "  0.13884522  0.15952237  0.1805603   0.20195875  0.22371798  0.24583773\n",
      "  0.26831827  0.29115931  0.31436115  0.33792349  0.36184663  0.38613026\n",
      "  0.4107747   0.43577962  0.46114535  0.48687157  0.5129586   0.53940611\n",
      "  0.56621443  0.59338322  0.62091283  0.64880292  0.67705382  0.70566519\n",
      "  0.73463738  0.76397003  0.7936635   0.82371744  0.8541322   0.88490741\n",
      "  0.91604346  0.94753995  0.97939728  1.01161505]\n"
     ]
    }
   ],
   "source": [
    "## solve MBAR equations using FastMBAR\n",
    "fastmbar = FastMBAR(energy = A, num_conf = num_conf, cuda=False, verbose = True)\n",
    "print(\"Relative free energies: \", fastmbar.F)"
   ]
  },
  {
   "cell_type": "code",
   "execution_count": 54,
   "id": "4a8c1e8d-23ef-467d-89c1-c8365e5a87b2",
   "metadata": {},
   "outputs": [
    {
     "data": {
      "text/plain": [
       "[<matplotlib.lines.Line2D at 0x7f331c2cf910>]"
      ]
     },
     "execution_count": 54,
     "metadata": {},
     "output_type": "execute_result"
    },
    {
     "data": {
      "image/png": "[encoded data removed]",
      "text/plain": [
       "<Figure size 640x480 with 1 Axes>"
      ]
     },
     "metadata": {},
     "output_type": "display_data"
    }
   ],
   "source": [
    "plt.plot(evaluation_points[::period], fastmbar._F)"
   ]
  },
  {
   "cell_type": "code",
   "execution_count": 55,
   "id": "9f0e6b14-d6c7-411f-a223-31f9fdc89a4c",
   "metadata": {},
   "outputs": [],
   "source": [
    "# interpolation_points = 0.5*(evaluation_points[1:] - evaluation_points[:-1])\n",
    "interpolation_points = np.linspace(0.0, 0.025, 1000)\n",
    "width = interpolation_points[1]-interpolation_points[0]\n",
    "B = np.zeros((interpolation_points.shape[0], cv.shape[0]))\n",
    "for index in range(interpolation_points.shape[0]):\n",
    "    pt = interpolation_points[index]\n",
    "    indicator = np.abs(cv-pt) <= 0.5*width\n",
    "    B[index, ~indicator] = np.inf"
   ]
  },
  {
   "cell_type": "code",
   "execution_count": 56,
   "id": "abfdfaab-8768-4f8e-81de-b4fe55ca5483",
   "metadata": {},
   "outputs": [],
   "source": [
    "results = fastmbar.calculate_free_energies_of_perturbed_states(B)\n",
    "PMF = results['F']\n",
    "PMF_uncertainty = results['F_std']"
   ]
  },
  {
   "cell_type": "code",
   "execution_count": 57,
   "id": "3c1774d2-3861-4efe-af38-5c30fa6d0b1f",
   "metadata": {},
   "outputs": [
    {
     "data": {
      "text/plain": [
       "[<matplotlib.lines.Line2D at 0x7f331cb08490>]"
      ]
     },
     "execution_count": 57,
     "metadata": {},
     "output_type": "execute_result"
    },
    {
     "data": {
      "image/png": "[encoded data removed]",
      "text/plain": [
       "<Figure size 640x480 with 1 Axes>"
      ]
     },
     "metadata": {},
     "output_type": "display_data"
    }
   ],
   "source": [
    "plt.plot(interpolation_points, PMF)"
   ]
  },
  {
   "cell_type": "code",
   "execution_count": 41,
   "id": "9d16c7d3-4d0d-4694-9e2f-0398dee4c7a5",
   "metadata": {},
   "outputs": [],
   "source": [
    "# smooth the free energy profile \n",
    "non_infs = np.isinf(PMF)\n",
    "interpolation_points = interpolation_points[~non_infs]\n",
    "PMF = PMF[~non_infs]"
   ]
  },
  {
   "cell_type": "code",
   "execution_count": 42,
   "id": "d4425d72-387e-4d7e-abcb-2e5f45701d34",
   "metadata": {},
   "outputs": [
    {
     "data": {
      "text/plain": [
       "(1000,)"
      ]
     },
     "execution_count": 42,
     "metadata": {},
     "output_type": "execute_result"
    }
   ],
   "source": [
    "PMF.shape"
   ]
  },
  {
   "cell_type": "markdown",
   "id": "cafe430d-d0ae-4165-9e2f-a7bfc467163d",
   "metadata": {},
   "source": [
    "# 5. Visualize! "
   ]
  },
  {
   "cell_type": "code",
   "execution_count": 44,
   "id": "e79a251f-fc38-424a-939e-0e099ad2cbdc",
   "metadata": {},
   "outputs": [],
   "source": [
    "import scipy"
   ]
  },
  {
   "cell_type": "code",
   "execution_count": 45,
   "id": "70feeb9d-fffb-4284-9cfe-b9308e97ad12",
   "metadata": {},
   "outputs": [],
   "source": [
    "# diffusion_tensors = np.array(M)\n",
    "data_dir = np.load(f'../output/traj_current/diffusion_tensors_sep12.npz', allow_pickle=True)\n",
    "diffusion_tensors = data_dir['diffusion_tensors']\n",
    "evaluation_points = data_dir['evaluation_points']"
   ]
  },
  {
   "cell_type": "code",
   "execution_count": 46,
   "id": "0956135d-b47f-405a-a256-cd4ac7e47004",
   "metadata": {},
   "outputs": [
    {
     "data": {
      "text/plain": [
       "<matplotlib.collections.PathCollection at 0x7f331d2d8ad0>"
      ]
     },
     "execution_count": 46,
     "metadata": {},
     "output_type": "execute_result"
    },
    {
     "data": {
      "image/png": "[encoded data removed]",
      "text/plain": [
       "<Figure size 640x480 with 1 Axes>"
      ]
     },
     "metadata": {},
     "output_type": "display_data"
    }
   ],
   "source": [
    "plt.scatter(evaluation_points, diffusion_tensors)"
   ]
  },
  {
   "cell_type": "code",
   "execution_count": 47,
   "id": "b92532c8-acad-4a87-ad6a-fa24d296347d",
   "metadata": {},
   "outputs": [],
   "source": [
    "diff_tensor_smooth = scipy.ndimage.gaussian_filter1d(diffusion_tensors, 75)"
   ]
  },
  {
   "cell_type": "code",
   "execution_count": 48,
   "id": "af2f79c8-5255-4c62-bd20-09ac46e031b6",
   "metadata": {},
   "outputs": [
    {
     "data": {
      "text/plain": [
       "<matplotlib.collections.PathCollection at 0x7f331cdcbad0>"
      ]
     },
     "execution_count": 48,
     "metadata": {},
     "output_type": "execute_result"
    },
    {
     "data": {
      "image/png": "[encoded data removed]",
      "text/plain": [
       "<Figure size 640x480 with 1 Axes>"
      ]
     },
     "metadata": {},
     "output_type": "display_data"
    }
   ],
   "source": [
    "fig, ax = plt.subplots()\n",
    "ax.plot(evaluation_points, diff_tensor_smooth, linestyle='--')\n",
    "ax.scatter(evaluation_points, diffusion_tensors, s=2.0, c='r',alpha=0.5)"
   ]
  },
  {
   "cell_type": "code",
   "execution_count": 59,
   "id": "7b92d71a-52da-46f8-974c-728b73b1845d",
   "metadata": {},
   "outputs": [],
   "source": [
    "fname = f\"../output/traj_current/diffusion_tensors_smooth_sep12.npz\"\n",
    "np.savez(fname, evaluation_points=evaluation_points, diffusion_tensors=diff_tensor_smooth)"
   ]
  },
  {
   "cell_type": "code",
   "execution_count": 61,
   "id": "6c2108a7-28fe-45d9-bf31-8855a2dd570c",
   "metadata": {},
   "outputs": [],
   "source": [
    "free_energy_smooth = scipy.ndimage.gaussian_filter1d(PMF,50)"
   ]
  },
  {
   "cell_type": "code",
   "execution_count": 62,
   "id": "d3d3a2b9-67f4-475c-98f7-09361f00e03a",
   "metadata": {},
   "outputs": [
    {
     "data": {
      "text/plain": [
       "<matplotlib.collections.PathCollection at 0x7f04d07e0c50>"
      ]
     },
     "execution_count": 62,
     "metadata": {},
     "output_type": "execute_result"
    },
    {
     "data": {
      "image/png": "[encoded data removed]",
      "text/plain": [
       "<Figure size 640x480 with 1 Axes>"
      ]
     },
     "metadata": {},
     "output_type": "display_data"
    }
   ],
   "source": [
    "fig, ax = plt.subplots()\n",
    "ax.plot(evaluation_points, free_energy_smooth, linestyle='--')\n",
    "ax.scatter(evaluation_points, PMF, s=2.0, c='r',alpha=0.5)"
   ]
  },
  {
   "cell_type": "markdown",
   "id": "1df97ebd-9717-4961-8a5e-92b92f8bf42b",
   "metadata": {},
   "source": [
    "# Save todo"
   ]
  },
  {
   "cell_type": "code",
   "execution_count": 63,
   "id": "03c3347c-1f3a-45b5-8d3a-e664c90b1913",
   "metadata": {},
   "outputs": [],
   "source": [
    "np.savez('/export/ssule25/CV_learning/butane/transition_rate/1D_CV_dnet', \\\n",
    "         evaluation_points = evaluation_points, \n",
    "         free_energy = fastmbar.F, \n",
    "         diffusion_tensors = diff_tensor_smooth,\n",
    "         kbT = kbT)"
   ]
  },
  {
   "cell_type": "markdown",
   "id": "2057781f",
   "metadata": {},
   "source": [
    "# Plot them ellipses! "
   ]
  },
  {
   "cell_type": "code",
   "execution_count": null,
   "id": "6a51e5df",
   "metadata": {},
   "outputs": [],
   "source": [
    "plot_scale = 1e-3\n",
    "for i in range(len(M)):\n",
    "    # if final_angles[i] >= 2.5:\n",
    "    cov = M[i]\n",
    "    evals, evecs = np.linalg.eig(cov)\n",
    "    idx = evals.argsort()[::-1]\n",
    "    evals = evals[idx]\n",
    "    evecs = evecs[:, idx]\n",
    "    t = np.linspace(0, 2*np.pi)\n",
    "    val = plot_scale*evecs*evals\n",
    "    x = data[i,:].numpy()\n",
    "    a = np.dot(val, np.vstack([np.cos(t), np.sin(t)]))\n",
    "    plt.plot(a[0, :] + x[0], a[1, :] + x[1], linewidth=0.5, c='k')\n",
    "    plt.scatter(x[0], x[1], color='b', s=1.0)\n",
    "\n",
    "plt.xlim([0.0,2.0])\n",
    "plt.ylim([0.0,2.0])"
   ]
  },
  {
   "cell_type": "markdown",
   "id": "12da477a-4142-4787-a5aa-7b0745968e4d",
   "metadata": {},
   "source": [
    "# 4. Save!"
   ]
  },
  {
   "cell_type": "code",
   "execution_count": null,
   "id": "1292bc79-a4ed-491d-8c57-0708bbe1f3d0",
   "metadata": {},
   "outputs": [],
   "source": [
    "fname = f\"../output/traj../output/traj_current/butane_metad_carbon_apr7_difftensor.npz\"\n",
    "data_dic['tensors'] = np.dstack(M)\n",
    "data_dic['tensor_indices'] = indices\n",
    "np.save(fname, datadic)"
   ]
  }
 ],
 "metadata": {
  "kernelspec": {
   "display_name": "Python 3 (ipykernel)",
   "language": "python",
   "name": "python3"
  },
  "language_info": {
   "codemirror_mode": {
    "name": "ipython",
    "version": 3
   },
   "file_extension": ".py",
   "mimetype": "text/x-python",
   "name": "python",
   "nbconvert_exporter": "python",
   "pygments_lexer": "ipython3",
   "version": "3.11.5"
  }
 },
 "nbformat": 4,
 "nbformat_minor": 5
}
