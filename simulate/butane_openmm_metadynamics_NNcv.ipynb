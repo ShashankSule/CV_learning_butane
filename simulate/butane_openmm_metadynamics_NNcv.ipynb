{
 "cells": [
  {
   "cell_type": "code",
   "execution_count": 4,
   "metadata": {},
   "outputs": [],
   "source": [
    "import os, math, sys\n",
    "from sys import stdout\n",
    "\n",
    "import numpy as np\n",
    "import matplotlib.pyplot as plt\n",
    "import openmm.app  as omm_app\n",
    "import openmm as omm\n",
    "import simtk.unit as unit\n",
    "from tqdm import tqdm\n",
    "\n",
    "import torch.nn as nn\n",
    "import torch\n",
    "# import openmmtools\n",
    "from openmmtorch import TorchForce\n",
    "from copy import deepcopy\n",
    "import MDAnalysis as mda\n",
    "from MDAnalysis.analysis import align, rms\n",
    "from MDAnalysis.analysis.dihedrals import Dihedral"
   ]
  },
  {
   "cell_type": "markdown",
   "metadata": {},
   "source": [
    "### Citing: Most of the openmm data needed for butane and format of this notebook comes from [here](https://fastmbar.readthedocs.io/en/latest/butane_PMF.html)."
   ]
  },
  {
   "cell_type": "code",
   "execution_count": 5,
   "metadata": {},
   "outputs": [],
   "source": [
    "# Indicates whether to run a simulation or not\n",
    "SIMULATE = False"
   ]
  },
  {
   "cell_type": "code",
   "execution_count": 7,
   "metadata": {},
   "outputs": [],
   "source": [
    "psf = omm_app.CharmmPsfFile('../data/butane.psf')\n",
    "pdb = omm_app.PDBFile('../data/butane.pdb')\n",
    "topology = psf.topology\n",
    "params = omm_app.CharmmParameterSet('../data/top_all35_ethers.rtf',\n",
    "                                    '../data/par_all35_ethers.prm')\n",
    "system = psf.createSystem(params, nonbondedMethod=omm_app.NoCutoff)\n",
    "with open(\"../data/system.xml\", 'w') as file_handle:\n",
    "    file_handle.write(omm.XmlSerializer.serialize(system))\n",
    "    ## read the OpenMM system of butane\n",
    "with open(\"../data/system.xml\", 'r') as file_handle:\n",
    "    xml = file_handle.read()\n",
    "system = omm.XmlSerializer.deserialize(xml)\n",
    "\n",
    "## read psf and pdb file of butane\n",
    "psf = omm_app.CharmmPsfFile(\"../data/butane.psf\")\n",
    "pdb = omm_app.PDBFile('../data/butane.pdb')\n",
    "topology = psf.topology"
   ]
  },
  {
   "cell_type": "markdown",
   "metadata": {},
   "source": [
    "# Collective variables"
   ]
  },
  {
   "cell_type": "code",
   "execution_count": 8,
   "metadata": {},
   "outputs": [],
   "source": [
    "# feature map \n",
    "def compute_gram_matrix_recentered(x):\n",
    "    # n_atoms = int(x.shape[0]/3)\n",
    "    # coords = x.reshape((n_atoms,3))\n",
    "    rescaled_coords = x - torch.mean(x,dim=0).reshape(1,3)\n",
    "    gram = torch.matmul(rescaled_coords, rescaled_coords.T)\n",
    "    return gram.flatten()\n",
    "\n",
    "carbon_inds = [3,6,9,13]\n",
    "mask = torch.zeros(14, dtype=torch.bool)\n",
    "for i in carbon_inds: \n",
    "    mask[i] = True   \n",
    "\n",
    "def butane_featurizer_map(x): \n",
    "    x = x[mask,...]\n",
    "    rescaled_coords = x - torch.mean(x,dim=0).reshape(1,3)\n",
    "    gram = torch.matmul(rescaled_coords, rescaled_coords.T)\n",
    "    return gram.flatten()\n",
    "\n",
    "feature_map = torch.vmap(butane_featurizer_map)"
   ]
  },
  {
   "cell_type": "markdown",
   "metadata": {
    "jp-MarkdownHeadingCollapsed": true
   },
   "source": [
    "## Plain old dihedral angle. "
   ]
  },
  {
   "cell_type": "code",
   "execution_count": 9,
   "metadata": {},
   "outputs": [],
   "source": [
    "carbon_inds = [3,6,9,13]\n",
    "mask = torch.zeros(14, dtype=torch.bool)\n",
    "for i in carbon_inds: \n",
    "    mask[i] = True"
   ]
  },
  {
   "cell_type": "code",
   "execution_count": 10,
   "metadata": {},
   "outputs": [],
   "source": [
    "def dihedral_angle_torch(x):\n",
    "    carbons = x[[3,6,9,13],:]\n",
    "    vectors = carbons[1:,:] - carbons[:-1,:]\n",
    "    na = torch.cross(-vectors[0,:], vectors[1,:])\n",
    "    nb = torch.cross(-vectors[1,:], vectors[2,:])\n",
    "    xx = torch.dot(na, nb)\n",
    "    xp = torch.cross(na,nb)\n",
    "    yy = torch.dot(vectors[1,:],xp)/torch.norm(vectors[1,:])\n",
    "    angle = torch.atan2(yy,xx)\n",
    "    return angle "
   ]
  },
  {
   "cell_type": "code",
   "execution_count": 11,
   "metadata": {},
   "outputs": [],
   "source": [
    "dihedral_angle_map = torch.vmap(dihedral_angle_torch)"
   ]
  },
  {
   "cell_type": "code",
   "execution_count": 12,
   "metadata": {},
   "outputs": [],
   "source": [
    "# build dihedral angle module \n",
    "class dihedral_CV(torch.nn.Module): \n",
    "    def __init__(self, forward_map): \n",
    "        super().__init__()\n",
    "        self.forward_map = forward_map\n",
    "    def forward(self,x): \n",
    "        angle = self.forward_map(x)\n",
    "        return torch.Tensor([torch.cos(angle), torch.sin(angle)])\n",
    "\n",
    "class CV_test(torch.nn.Module): \n",
    "    def __init__(self, cv, idx): \n",
    "        super().__init__()\n",
    "        self.cv = cv\n",
    "        self.idx = idx\n",
    "    def forward(self,x): \n",
    "        cv_val = self.cv(x)[self.idx].flatten()\n",
    "        return cv_val"
   ]
  },
  {
   "cell_type": "markdown",
   "metadata": {},
   "source": [
    "## Norm squared of diffusion net"
   ]
  },
  {
   "cell_type": "code",
   "execution_count": 8,
   "metadata": {},
   "outputs": [],
   "source": [
    "device = 'cuda:0'"
   ]
  },
  {
   "cell_type": "code",
   "execution_count": 13,
   "metadata": {},
   "outputs": [],
   "source": [
    "def rotate_xy(xy_recentered, theta):\n",
    "    \"\"\"\n",
    "    Rotates each row of the input n x 3 matrix by the given angle theta (rotation in the XY plane).\n",
    "\n",
    "    Args:\n",
    "    xy_recentered (torch.Tensor): An n x 3 matrix where each row is a 3D vector.\n",
    "    theta (float or torch.Tensor): The rotation angle in radians.\n",
    "\n",
    "    Returns:\n",
    "    torch.Tensor: An n x 3 matrix with each row rotated by the given angle.\n",
    "    \"\"\"\n",
    "    # Initialize the output tensor with the same shape as the input\n",
    "    xy_rotated = torch.zeros_like(xy_recentered)\n",
    "\n",
    "    # Calculate cosine and sine of the rotation angle\n",
    "    cos_theta = torch.cos(-theta)\n",
    "    sin_theta = torch.sin(-theta)\n",
    "\n",
    "    # Loop through each row to apply the rotation\n",
    "    for i in range(xy_recentered.shape[0]):\n",
    "        # Extract the x, y, z components of the current row\n",
    "        x = xy_recentered[i, 0]\n",
    "        y = xy_recentered[i, 1]\n",
    "        z = xy_recentered[i, 2]\n",
    "\n",
    "        # Apply 2D rotation to the x and y coordinates (rotation around Z-axis)\n",
    "        new_x = cos_theta * x - sin_theta * y\n",
    "        new_y = sin_theta * x + cos_theta * y\n",
    "        new_z = z  # z remains unchanged\n",
    "\n",
    "        # Store the rotated values in the output tensor\n",
    "        xy_rotated[i, 0] = new_x\n",
    "        xy_rotated[i, 1] = new_y\n",
    "        xy_rotated[i, 2] = new_z\n",
    "\n",
    "    return xy_rotated\n",
    "\n",
    "def rotate_zx(xy_recentered, theta):\n",
    "    \"\"\"\n",
    "    Rotates each row of the input n x 3 matrix by the given angle theta (rotation in the ZX plane).\n",
    "\n",
    "    Args:\n",
    "    xy_recentered (torch.Tensor): An n x 3 matrix where each row is a 3D vector.\n",
    "    theta (float or torch.Tensor): The rotation angle in radians.\n",
    "\n",
    "    Returns:\n",
    "    torch.Tensor: An n x 3 matrix with each row rotated in the ZX plane by the given angle.\n",
    "    \"\"\"\n",
    "    # Initialize the output tensor with the same shape as the input\n",
    "    xy_rotated = torch.zeros_like(xy_recentered)\n",
    "\n",
    "    # Calculate cosine and sine of the rotation angle\n",
    "    cos_theta = torch.cos(-theta)\n",
    "    sin_theta = torch.sin(-theta)\n",
    "\n",
    "    # Loop through each row to apply the rotation\n",
    "    for i in range(xy_recentered.shape[0]):\n",
    "        # Extract the x, y, z components of the current row\n",
    "        x = xy_recentered[i, 0]\n",
    "        y = xy_recentered[i, 1]\n",
    "        z = xy_recentered[i, 2]\n",
    "\n",
    "        # Apply 2D rotation to the x and z coordinates (rotation in the ZX plane)\n",
    "        new_x = cos_theta * x - sin_theta * z\n",
    "        new_z = sin_theta * x + cos_theta * z\n",
    "        new_y = y  # y remains unchanged\n",
    "\n",
    "        # Store the rotated values in the output tensor\n",
    "        xy_rotated[i, 0] = new_x\n",
    "        xy_rotated[i, 1] = new_y\n",
    "        xy_rotated[i, 2] = new_z\n",
    "\n",
    "    return xy_rotated\n",
    "\n",
    "def recenter_bond_torch(x):\n",
    "        x = x.reshape((4, 3))\n",
    "        assert x.shape == (4, 3)\n",
    "        \n",
    "        recentered_x = x - x[0, :]\n",
    "        theta = torch.atan2(recentered_x[1, 1], recentered_x[1, 0])\n",
    "        \n",
    "        xy_rotated = rotate_xy(recentered_x,theta)\n",
    "        phi = torch.atan2(xy_rotated[1, 2], xy_rotated[1, 0])\n",
    "        zx_rotated = rotate_zx(xy_rotated, phi)\n",
    "        return zx_rotated.flatten()\n",
    "\n",
    "xx = torch.randn((4,3))"
   ]
  },
  {
   "cell_type": "code",
   "execution_count": 15,
   "metadata": {},
   "outputs": [],
   "source": [
    "class Encoder_deep(nn.Module):\n",
    "    def __init__(self, activation, input_dim, hidden1_dim, hidden2_dim, hidden3_dim, hidden4_dim, encoder_dim):\n",
    "        super(Encoder_deep, self).__init__()\n",
    "        \n",
    "        # Defining the layers of the neural network\n",
    "        # self.featurizer = feature_map\n",
    "        self.activation = activation\n",
    "        self.hidden1 = nn.Linear(input_dim, hidden1_dim)\n",
    "        self.hidden2 = nn.Linear(hidden1_dim, hidden2_dim)\n",
    "        self.hidden3 = nn.Linear(hidden2_dim, hidden3_dim)\n",
    "        self.hidden4 = nn.Linear(hidden3_dim, hidden4_dim)\n",
    "        self.bottleneck = nn.Linear(hidden4_dim, encoder_dim)\n",
    "\n",
    "        # Collecting layers for convenience\n",
    "        self.encoder = nn.Sequential(self.hidden1, self.activation, \\\n",
    "                                     self.hidden2, self.activation, \\\n",
    "                                        self.hidden3, self.activation, \\\n",
    "                                            self.hidden4, self.activation, \\\n",
    "                                                self.bottleneck, self.activation)\n",
    "\n",
    "    \n",
    "    def encode(self, x):\n",
    "        # y = self.featurizer(x)\n",
    "        return self.encoder(x)\n",
    "    \n",
    "    # Required for any subclass of nn.module: defines how data passes through the `computational graph'\n",
    "    def forward(self, x):\n",
    "        # x = self.featurizer(x)\n",
    "        return self.encode(x)"
   ]
  },
  {
   "cell_type": "code",
   "execution_count": 18,
   "metadata": {},
   "outputs": [
    {
     "data": {
      "text/plain": [
       "Encoder_deep(\n",
       "  (activation): Tanh()\n",
       "  (hidden1): Linear(in_features=12, out_features=32, bias=True)\n",
       "  (hidden2): Linear(in_features=32, out_features=32, bias=True)\n",
       "  (hidden3): Linear(in_features=32, out_features=32, bias=True)\n",
       "  (hidden4): Linear(in_features=32, out_features=32, bias=True)\n",
       "  (bottleneck): Linear(in_features=32, out_features=2, bias=True)\n",
       "  (encoder): Sequential(\n",
       "    (0): Linear(in_features=12, out_features=32, bias=True)\n",
       "    (1): Tanh()\n",
       "    (2): Linear(in_features=32, out_features=32, bias=True)\n",
       "    (3): Tanh()\n",
       "    (4): Linear(in_features=32, out_features=32, bias=True)\n",
       "    (5): Tanh()\n",
       "    (6): Linear(in_features=32, out_features=32, bias=True)\n",
       "    (7): Tanh()\n",
       "    (8): Linear(in_features=32, out_features=2, bias=True)\n",
       "    (9): Tanh()\n",
       "  )\n",
       ")"
      ]
     },
     "execution_count": 18,
     "metadata": {},
     "output_type": "execute_result"
    }
   ],
   "source": [
    "# this defines the structure of the model\n",
    "activation = nn.Tanh() \n",
    "input_dim = 12\n",
    "hidden1_dim = 32\n",
    "hidden2_dim = 32\n",
    "hidden3_dim = 32\n",
    "hidden4_dim = 32\n",
    "encoder_dim = 2\n",
    "output_dim = 12\n",
    "model_encoder_reg = Encoder_deep(activation, input_dim, hidden1_dim, hidden2_dim, hidden3_dim, hidden4_dim, encoder_dim).to('cpu')\n",
    "model_encoder_reg.load_state_dict(torch.load(\"diffusion_net\", map_location='cpu'))\n",
    "model_encoder_reg.eval()"
   ]
  },
  {
   "cell_type": "code",
   "execution_count": 19,
   "metadata": {},
   "outputs": [],
   "source": [
    "carbon_inds = [3,6,9,13]\n",
    "mask = torch.zeros(14, dtype=torch.bool)\n",
    "for i in carbon_inds: \n",
    "    mask[i] = True   \n",
    "class collective_variable(nn.Module):\n",
    "    def __init__(self, mask, featurizer, Dnet): \n",
    "        super().__init__()\n",
    "        self.mask = mask\n",
    "        self.featurizer = featurizer\n",
    "        self.Dnet = Dnet\n",
    "    def forward(self,x):\n",
    "        x = 10*x[self.mask, :]\n",
    "        x = self.featurizer(x) \n",
    "        x = self.Dnet(x.float())\n",
    "        return torch.norm(x)**2"
   ]
  },
  {
   "cell_type": "markdown",
   "metadata": {},
   "source": [
    "# 1.d Post-process for openMM"
   ]
  },
  {
   "cell_type": "code",
   "execution_count": 20,
   "metadata": {},
   "outputs": [],
   "source": [
    "# cv_model_1 = CV_test(12, 0, mask, single = True)\n",
    "# cv_model_2 = CV_test(12, 1, mask, single = True)\n",
    "\n",
    "cv_model_2 = collective_variable(mask, recenter_bond_torch, model_encoder_reg)"
   ]
  },
  {
   "cell_type": "code",
   "execution_count": 22,
   "metadata": {},
   "outputs": [],
   "source": [
    "# cv_model_1.to(device)\n",
    "cv_model_2.to('cpu')\n",
    "# cv1 = torch.jit.script(cv_model_1)\n",
    "cv2 = torch.jit.script(cv_model_2)\n",
    "# CV_force_1 = TorchForce(cv1)\n",
    "CV_force_2 = TorchForce(cv2)"
   ]
  },
  {
   "cell_type": "code",
   "execution_count": 17,
   "metadata": {},
   "outputs": [],
   "source": [
    "# Define Collective Variable\n",
    "# cv_1 = omm.CustomCVForce(\"cv1\")\n",
    "# cv_1.addCollectiveVariable(\"cv1\",CV_force_1)\n",
    "\n",
    "cv_2 = omm.CustomCVForce(\"cv2\")\n",
    "cv_2.addCollectiveVariable(\"cv2\",CV_force_2)\n",
    "\n",
    "# Set metadynamics parameters\n",
    "biasWidth=1.5e-3\n",
    "# phi = omm_app.metadynamics.BiasVariable(force=cv_1, minValue=-0.1, maxValue=0.0, biasWidth=0.1, periodic=False, gridWidth=100)\n",
    "# psi = omm_app.metadynamics.BiasVariable(force=cv_2, minValue=0.5, maxValue=1.3, biasWidth=0.2, periodic=False, gridWidth=100)\n",
    "# psi = omm_app.metadynamics.BiasVariable(force=cv_2, minValue=-np.pi, maxValue=np.pi, biasWidth=biasWidth, periodic=True)\n",
    "psi = omm_app.metadynamics.BiasVariable(force=cv_2, minValue=0.0, maxValue=0.03, biasWidth=biasWidth, periodic=False, gridWidth=1000)\n"
   ]
  },
  {
   "cell_type": "markdown",
   "metadata": {},
   "source": [
    "# 2. Set up and run the simulation"
   ]
  },
  {
   "cell_type": "markdown",
   "metadata": {},
   "source": [
    "In order to run simulations in OpenMM, we need to construct an OpenMM [context](http://docs.openmm.org/7.1.0/api-python/generated/simtk.openmm.openmm.Context.html), which consists of a system, an integrator and a platform.\n",
    "The system is the butane system we have constructed above.\n",
    "The integrator specifies what kind integration method we should use. Here, we will use Langevin dynamics, which corresponds to the [OpenMM.LangevinIntegrator](http://docs.openmm.org/7.1.0/api-python/generated/simtk.openmm.openmm.LangevinIntegrator.html) and the [OpenMM.LangevinMiddleIntegrator](http://docs.openmm.org/latest/api-python/generated/openmm.openmm.LangevinMiddleIntegrator.html). Here, we use the LangevinMiddleIntegrator based on [J. Phys. Chem. A 2019, 123, 28, 6056-6079](https://pubs.acs.org/doi/full/10.1021/acs.jpca.9b02771), closely related to the BAOAB [Proc. R. Soc. A. 472: 20160138](https://royalsocietypublishing.org/doi/abs/10.1098/rspa.2016.0138) scheme.\n",
    "\n",
    "The platform specifies what kind of hardware we will run simulation on. Here, we choose to use CPUs because the size of the system is quite small.\n",
    "\n",
    "Then, we initialize a [Simulation](http://docs.openmm.org/7.1.0/api-python/generated/simtk.openmm.app.simulation.Simulation.html), an api for running simulations and reporting results.\n"
   ]
  },
  {
   "cell_type": "code",
   "execution_count": 26,
   "metadata": {},
   "outputs": [],
   "source": [
    "T = 300 * unit.kelvin  ## temperature\n",
    "kbT = unit.BOLTZMANN_CONSTANT_kB * T * unit.AVOGADRO_CONSTANT_NA \n",
    "kbT = kbT.value_in_unit(unit.kilojoule_per_mole)"
   ]
  },
  {
   "cell_type": "code",
   "execution_count": 18,
   "metadata": {},
   "outputs": [],
   "source": [
    "platform = omm.Platform.getPlatformByName('CUDA')\n",
    "T = 300 * unit.kelvin  ## temperature\n",
    "kbT = unit.BOLTZMANN_CONSTANT_kB * T * unit.AVOGADRO_CONSTANT_NA \n",
    "kbT = kbT.value_in_unit(unit.kilojoule_per_mole)\n",
    "\n",
    "kbT_roomtemp = unit.BOLTZMANN_CONSTANT_kB*unit.AVOGADRO_CONSTANT_NA*300.0*unit.kelvin\n",
    "kbT_roomtemp = kbT_roomtemp.value_in_unit(unit.kilojoule_per_mole)\n",
    "\n",
    "# Set up metadynamics\n",
    "# biasFactor = 10\n",
    "# height = 1.0\n",
    "# frequency = 1E8\n",
    "# meta = omm_app.Metadynamics(system, variables=[psi], temperature=T, biasFactor=biasFactor, height=height, \n",
    "#                             frequency=frequency, saveFrequency=frequency, biasDir=\"../output/traj_current/\")\n",
    "biasFactor = 10\n",
    "height = 0.1\n",
    "frequency = 1E7\n",
    "meta = omm_app.Metadynamics(system, variables=[psi], temperature=T, biasFactor=biasFactor, height=height, \\\n",
    "                            frequency=frequency, saveFrequency=frequency, biasDir=\"../output/traj_current/\")\n",
    "\n",
    "## integrator\n",
    "fricCoef = 10/unit.picoseconds ## friction coefficient \n",
    "stepsize = 2 * unit.femtoseconds ## integration step size\n",
    "integrator = omm.LangevinMiddleIntegrator(T, fricCoef, stepsize)\n",
    "simulation = omm_app.Simulation(topology, system, integrator, platform)"
   ]
  },
  {
   "cell_type": "code",
   "execution_count": 30,
   "metadata": {},
   "outputs": [],
   "source": [
    "platform.setPropertyValue(simulation.context, 'DeviceIndex', '1')"
   ]
  },
  {
   "cell_type": "code",
   "execution_count": 45,
   "metadata": {},
   "outputs": [],
   "source": [
    "# class CVreporter(object):\n",
    "#     def __init__(self, file, reportInterval):\n",
    "#         self._out = open(file, 'w')\n",
    "#         self._reportInterval = reportInterval\n",
    "\n",
    "#     def __del__(self):\n",
    "#         self._out.close()\n",
    "\n",
    "#     def describeNextReport(self, simulation):\n",
    "#         steps = self._reportInterval - simulation.currentStep%self._reportInterval\n",
    "#         return (steps, False, False, True, False, None)\n",
    "\n",
    "#     def report(self, meta, simulation, state):\n",
    "#         cvs = meta._force.getCollectiveVariableValues(simulation.context)\n",
    "#         for cv in cvs:\n",
    "#             self._out.write('%g %g' % (cv[0], cv[1]))\n",
    "#         self._out.write('\\n')\n",
    "#         self._out.flush()"
   ]
  },
  {
   "cell_type": "code",
   "execution_count": 19,
   "metadata": {},
   "outputs": [],
   "source": [
    "my_state = \"state_NNCV.txt\"\n",
    "my_dcd = \"traj_NNCV.dcd\"\n",
    "my_free_energy = \"free_energy_NNCV.npz\"\n",
    "my_CVs = \"my_CVs_NNCV.npz\"\n",
    "simulation.context.setPositions(pdb.positions)\n",
    "if psf.boxVectors is not None:\n",
    "    print(\"we got box vectors!\")\n",
    "    simulation.context.setPeriodicBoxVectors(*psf.boxVectors)\n",
    "# simulation.minimizeEnergy()\n",
    "simulation.reporters.append(omm_app.DCDReporter(my_dcd, int(1E1), False))\n",
    "simulation.reporters.append(omm_app.StateDataReporter(my_state, 1E1, step=True, potentialEnergy=True))\n",
    "simulation.reporters.append(omm_app.StateDataReporter(stdout, 1E5, step=True, potentialEnergy=True))"
   ]
  },
  {
   "cell_type": "code",
   "execution_count": 20,
   "metadata": {},
   "outputs": [
    {
     "name": "stdout",
     "output_type": "stream",
     "text": [
      "#\"Step\",\"Potential Energy (kJ/mole)\"\n",
      "100000,75.33720051691257\n",
      "200000,79.54058486032127\n",
      "300000,96.38149423201023\n",
      "400000,68.75064946941328\n"
     ]
    },
    {
     "ename": "KeyboardInterrupt",
     "evalue": "",
     "output_type": "error",
     "traceback": [
      "\u001b[0;31m---------------------------------------------------------------------------\u001b[0m",
      "\u001b[0;31mKeyboardInterrupt\u001b[0m                         Traceback (most recent call last)",
      "\u001b[0;32m/tmp/ipykernel_114076/2319657473.py\u001b[0m in \u001b[0;36m?\u001b[0;34m()\u001b[0m\n\u001b[1;32m      4\u001b[0m \u001b[0;31m# my_CVs = \"../output/traj_current/my_CVs_apr2.npz\"\u001b[0m\u001b[0;34m\u001b[0m\u001b[0;34m\u001b[0m\u001b[0m\n\u001b[1;32m      5\u001b[0m \u001b[0;34m\u001b[0m\u001b[0m\n\u001b[1;32m      6\u001b[0m \u001b[0;32mif\u001b[0m \u001b[0mSIMULATE\u001b[0m\u001b[0;34m:\u001b[0m\u001b[0;34m\u001b[0m\u001b[0;34m\u001b[0m\u001b[0m\n\u001b[1;32m      7\u001b[0m    \u001b[0;31m# simulation.minimizeEnergy()\u001b[0m\u001b[0;34m\u001b[0m\u001b[0;34m\u001b[0m\u001b[0m\n\u001b[0;32m----> 8\u001b[0;31m     \u001b[0mmeta\u001b[0m\u001b[0;34m.\u001b[0m\u001b[0mstep\u001b[0m\u001b[0;34m(\u001b[0m\u001b[0msimulation\u001b[0m\u001b[0;34m,\u001b[0m \u001b[0;36m1E7\u001b[0m\u001b[0;34m)\u001b[0m\u001b[0;34m\u001b[0m\u001b[0;34m\u001b[0m\u001b[0m\n\u001b[0m\u001b[1;32m      9\u001b[0m     \u001b[0mnp\u001b[0m\u001b[0;34m.\u001b[0m\u001b[0msavez\u001b[0m\u001b[0;34m(\u001b[0m\u001b[0mmy_free_energy\u001b[0m\u001b[0;34m,\u001b[0m \u001b[0mfree_energy\u001b[0m\u001b[0;34m=\u001b[0m\u001b[0mmeta\u001b[0m\u001b[0;34m.\u001b[0m\u001b[0mgetFreeEnergy\u001b[0m\u001b[0;34m(\u001b[0m\u001b[0;34m)\u001b[0m\u001b[0;34m)\u001b[0m\u001b[0;34m\u001b[0m\u001b[0;34m\u001b[0m\u001b[0m\n\u001b[1;32m     10\u001b[0m     \u001b[0mnp\u001b[0m\u001b[0;34m.\u001b[0m\u001b[0msavez\u001b[0m\u001b[0;34m(\u001b[0m\u001b[0mmy_CVs\u001b[0m\u001b[0;34m,\u001b[0m \u001b[0mCVs\u001b[0m \u001b[0;34m=\u001b[0m \u001b[0mmeta\u001b[0m\u001b[0;34m.\u001b[0m\u001b[0mgetCollectiveVariables\u001b[0m\u001b[0;34m(\u001b[0m\u001b[0msimulation\u001b[0m\u001b[0;34m)\u001b[0m\u001b[0;34m)\u001b[0m\u001b[0;34m\u001b[0m\u001b[0;34m\u001b[0m\u001b[0m\n",
      "\u001b[0;32m/export/ssule25/miniconda3/envs/ptorch/lib/python3.11/site-packages/openmm/app/metadynamics.py\u001b[0m in \u001b[0;36m?\u001b[0;34m(self, simulation, steps)\u001b[0m\n\u001b[1;32m    168\u001b[0m             \u001b[0;32mif\u001b[0m \u001b[0msimulation\u001b[0m\u001b[0;34m.\u001b[0m\u001b[0mcurrentStep\u001b[0m \u001b[0;34m%\u001b[0m \u001b[0mself\u001b[0m\u001b[0;34m.\u001b[0m\u001b[0mfrequency\u001b[0m \u001b[0;34m==\u001b[0m \u001b[0;36m0\u001b[0m\u001b[0;34m:\u001b[0m\u001b[0;34m\u001b[0m\u001b[0;34m\u001b[0m\u001b[0m\n\u001b[1;32m    169\u001b[0m                 \u001b[0mnextSteps\u001b[0m \u001b[0;34m=\u001b[0m \u001b[0mmin\u001b[0m\u001b[0;34m(\u001b[0m\u001b[0mnextSteps\u001b[0m\u001b[0;34m,\u001b[0m \u001b[0mself\u001b[0m\u001b[0;34m.\u001b[0m\u001b[0mfrequency\u001b[0m\u001b[0;34m)\u001b[0m\u001b[0;34m\u001b[0m\u001b[0;34m\u001b[0m\u001b[0m\n\u001b[1;32m    170\u001b[0m             \u001b[0;32melse\u001b[0m\u001b[0;34m:\u001b[0m\u001b[0;34m\u001b[0m\u001b[0;34m\u001b[0m\u001b[0m\n\u001b[1;32m    171\u001b[0m                 \u001b[0mnextSteps\u001b[0m \u001b[0;34m=\u001b[0m \u001b[0mmin\u001b[0m\u001b[0;34m(\u001b[0m\u001b[0mnextSteps\u001b[0m\u001b[0;34m,\u001b[0m \u001b[0mself\u001b[0m\u001b[0;34m.\u001b[0m\u001b[0mfrequency\u001b[0m \u001b[0;34m-\u001b[0m \u001b[0msimulation\u001b[0m\u001b[0;34m.\u001b[0m\u001b[0mcurrentStep\u001b[0m \u001b[0;34m%\u001b[0m \u001b[0mself\u001b[0m\u001b[0;34m.\u001b[0m\u001b[0mfrequency\u001b[0m\u001b[0;34m)\u001b[0m\u001b[0;34m\u001b[0m\u001b[0;34m\u001b[0m\u001b[0m\n\u001b[0;32m--> 172\u001b[0;31m             \u001b[0msimulation\u001b[0m\u001b[0;34m.\u001b[0m\u001b[0mstep\u001b[0m\u001b[0;34m(\u001b[0m\u001b[0mnextSteps\u001b[0m\u001b[0;34m)\u001b[0m\u001b[0;34m\u001b[0m\u001b[0;34m\u001b[0m\u001b[0m\n\u001b[0m\u001b[1;32m    173\u001b[0m             \u001b[0;32mif\u001b[0m \u001b[0msimulation\u001b[0m\u001b[0;34m.\u001b[0m\u001b[0mcurrentStep\u001b[0m \u001b[0;34m%\u001b[0m \u001b[0mself\u001b[0m\u001b[0;34m.\u001b[0m\u001b[0mfrequency\u001b[0m \u001b[0;34m==\u001b[0m \u001b[0;36m0\u001b[0m\u001b[0;34m:\u001b[0m\u001b[0;34m\u001b[0m\u001b[0;34m\u001b[0m\u001b[0m\n\u001b[1;32m    174\u001b[0m                 \u001b[0mposition\u001b[0m \u001b[0;34m=\u001b[0m \u001b[0mself\u001b[0m\u001b[0;34m.\u001b[0m\u001b[0m_force\u001b[0m\u001b[0;34m.\u001b[0m\u001b[0mgetCollectiveVariableValues\u001b[0m\u001b[0;34m(\u001b[0m\u001b[0msimulation\u001b[0m\u001b[0;34m.\u001b[0m\u001b[0mcontext\u001b[0m\u001b[0;34m)\u001b[0m\u001b[0;34m\u001b[0m\u001b[0;34m\u001b[0m\u001b[0m\n\u001b[1;32m    175\u001b[0m                 \u001b[0menergy\u001b[0m \u001b[0;34m=\u001b[0m \u001b[0msimulation\u001b[0m\u001b[0;34m.\u001b[0m\u001b[0mcontext\u001b[0m\u001b[0;34m.\u001b[0m\u001b[0mgetState\u001b[0m\u001b[0;34m(\u001b[0m\u001b[0mgetEnergy\u001b[0m\u001b[0;34m=\u001b[0m\u001b[0;32mTrue\u001b[0m\u001b[0;34m,\u001b[0m \u001b[0mgroups\u001b[0m\u001b[0;34m=\u001b[0m\u001b[0;34m{\u001b[0m\u001b[0mforceGroup\u001b[0m\u001b[0;34m}\u001b[0m\u001b[0;34m)\u001b[0m\u001b[0;34m.\u001b[0m\u001b[0mgetPotentialEnergy\u001b[0m\u001b[0;34m(\u001b[0m\u001b[0;34m)\u001b[0m\u001b[0;34m\u001b[0m\u001b[0;34m\u001b[0m\u001b[0m\n",
      "\u001b[0;32m/export/ssule25/miniconda3/envs/ptorch/lib/python3.11/site-packages/openmm/app/simulation.py\u001b[0m in \u001b[0;36m?\u001b[0;34m(self, steps)\u001b[0m\n\u001b[1;32m    145\u001b[0m     \u001b[0;32mdef\u001b[0m \u001b[0mstep\u001b[0m\u001b[0;34m(\u001b[0m\u001b[0mself\u001b[0m\u001b[0;34m,\u001b[0m \u001b[0msteps\u001b[0m\u001b[0;34m)\u001b[0m\u001b[0;34m:\u001b[0m\u001b[0;34m\u001b[0m\u001b[0;34m\u001b[0m\u001b[0m\n\u001b[1;32m    146\u001b[0m         \u001b[0;34m\"\"\"Advance the simulation by integrating a specified number of time steps.\"\"\"\u001b[0m\u001b[0;34m\u001b[0m\u001b[0;34m\u001b[0m\u001b[0m\n\u001b[0;32m--> 147\u001b[0;31m         \u001b[0mself\u001b[0m\u001b[0;34m.\u001b[0m\u001b[0m_simulate\u001b[0m\u001b[0;34m(\u001b[0m\u001b[0mendStep\u001b[0m\u001b[0;34m=\u001b[0m\u001b[0mself\u001b[0m\u001b[0;34m.\u001b[0m\u001b[0mcurrentStep\u001b[0m\u001b[0;34m+\u001b[0m\u001b[0msteps\u001b[0m\u001b[0;34m)\u001b[0m\u001b[0;34m\u001b[0m\u001b[0;34m\u001b[0m\u001b[0m\n\u001b[0m",
      "\u001b[0;32m/export/ssule25/miniconda3/envs/ptorch/lib/python3.11/site-packages/openmm/app/simulation.py\u001b[0m in \u001b[0;36m?\u001b[0;34m(self, endStep, endTime)\u001b[0m\n\u001b[1;32m    212\u001b[0m                 \u001b[0mself\u001b[0m\u001b[0;34m.\u001b[0m\u001b[0mintegrator\u001b[0m\u001b[0;34m.\u001b[0m\u001b[0mstep\u001b[0m\u001b[0;34m(\u001b[0m\u001b[0;36m10\u001b[0m\u001b[0;34m)\u001b[0m \u001b[0;31m# Only take 10 steps at a time, to give Python more chances to respond to a control-c.\u001b[0m\u001b[0;34m\u001b[0m\u001b[0;34m\u001b[0m\u001b[0m\n\u001b[1;32m    213\u001b[0m                 \u001b[0mstepsToGo\u001b[0m \u001b[0;34m-=\u001b[0m \u001b[0;36m10\u001b[0m\u001b[0;34m\u001b[0m\u001b[0;34m\u001b[0m\u001b[0m\n\u001b[1;32m    214\u001b[0m                 \u001b[0;32mif\u001b[0m \u001b[0mendTime\u001b[0m \u001b[0;32mis\u001b[0m \u001b[0;32mnot\u001b[0m \u001b[0;32mNone\u001b[0m \u001b[0;32mand\u001b[0m \u001b[0mdatetime\u001b[0m\u001b[0;34m.\u001b[0m\u001b[0mnow\u001b[0m\u001b[0;34m(\u001b[0m\u001b[0;34m)\u001b[0m \u001b[0;34m>=\u001b[0m \u001b[0mendTime\u001b[0m\u001b[0;34m:\u001b[0m\u001b[0;34m\u001b[0m\u001b[0;34m\u001b[0m\u001b[0m\n\u001b[1;32m    215\u001b[0m                     \u001b[0;32mreturn\u001b[0m\u001b[0;34m\u001b[0m\u001b[0;34m\u001b[0m\u001b[0m\n\u001b[0;32m--> 216\u001b[0;31m             \u001b[0mself\u001b[0m\u001b[0;34m.\u001b[0m\u001b[0mintegrator\u001b[0m\u001b[0;34m.\u001b[0m\u001b[0mstep\u001b[0m\u001b[0;34m(\u001b[0m\u001b[0mstepsToGo\u001b[0m\u001b[0;34m)\u001b[0m\u001b[0;34m\u001b[0m\u001b[0;34m\u001b[0m\u001b[0m\n\u001b[0m\u001b[1;32m    217\u001b[0m             \u001b[0;32mif\u001b[0m \u001b[0manyReport\u001b[0m\u001b[0;34m:\u001b[0m\u001b[0;34m\u001b[0m\u001b[0;34m\u001b[0m\u001b[0m\n\u001b[1;32m    218\u001b[0m                 \u001b[0;31m# One or more reporters are ready to generate reports.  Organize them into three\u001b[0m\u001b[0;34m\u001b[0m\u001b[0;34m\u001b[0m\u001b[0m\n\u001b[1;32m    219\u001b[0m                 \u001b[0;31m# groups: ones that want wrapped positions, ones that want unwrapped positions,\u001b[0m\u001b[0;34m\u001b[0m\u001b[0;34m\u001b[0m\u001b[0m\n",
      "\u001b[0;32m/export/ssule25/miniconda3/envs/ptorch/lib/python3.11/site-packages/openmm/openmm.py\u001b[0m in \u001b[0;36m?\u001b[0;34m(self, steps)\u001b[0m\n\u001b[1;32m  15283\u001b[0m         \u001b[0;34m-\u001b[0m\u001b[0;34m-\u001b[0m\u001b[0;34m-\u001b[0m\u001b[0;34m-\u001b[0m\u001b[0;34m-\u001b[0m\u001b[0;34m-\u001b[0m\u001b[0;34m-\u001b[0m\u001b[0;34m-\u001b[0m\u001b[0;34m-\u001b[0m\u001b[0;34m-\u001b[0m\u001b[0;34m\u001b[0m\u001b[0;34m\u001b[0m\u001b[0m\n\u001b[1;32m  15284\u001b[0m         \u001b[0msteps\u001b[0m \u001b[0;34m:\u001b[0m \u001b[0mint\u001b[0m\u001b[0;34m\u001b[0m\u001b[0;34m\u001b[0m\u001b[0m\n\u001b[1;32m  15285\u001b[0m             \u001b[0mthe\u001b[0m \u001b[0mnumber\u001b[0m \u001b[0mof\u001b[0m \u001b[0mtime\u001b[0m \u001b[0msteps\u001b[0m \u001b[0mto\u001b[0m \u001b[0mtake\u001b[0m\u001b[0;34m\u001b[0m\u001b[0;34m\u001b[0m\u001b[0m\n\u001b[1;32m  15286\u001b[0m         \"\"\"\n\u001b[0;32m> 15287\u001b[0;31m         \u001b[0;32mreturn\u001b[0m \u001b[0m_openmm\u001b[0m\u001b[0;34m.\u001b[0m\u001b[0mLangevinMiddleIntegrator_step\u001b[0m\u001b[0;34m(\u001b[0m\u001b[0mself\u001b[0m\u001b[0;34m,\u001b[0m \u001b[0msteps\u001b[0m\u001b[0;34m)\u001b[0m\u001b[0;34m\u001b[0m\u001b[0;34m\u001b[0m\u001b[0m\n\u001b[0m",
      "\u001b[0;31mKeyboardInterrupt\u001b[0m: "
     ]
    }
   ],
   "source": [
    "if SIMULATE:\n",
    "   # simulation.minimizeEnergy()\n",
    "    meta.step(simulation, 1E7)\n",
    "    np.savez(my_free_energy, free_energy=meta.getFreeEnergy())\n",
    "    np.savez(my_CVs, CVs = meta.getCollectiveVariables(simulation))"
   ]
  },
  {
   "cell_type": "code",
   "execution_count": 32,
   "metadata": {},
   "outputs": [],
   "source": [
    "biases = np.load(\"bias_NNCV.npy\")\n",
    "# free_energy = np.load(\"../output/traj_current/free_energy_jul7.npz\")['free_energy']"
   ]
  },
  {
   "cell_type": "code",
   "execution_count": 33,
   "metadata": {},
   "outputs": [
    {
     "data": {
      "text/plain": [
       "[<matplotlib.lines.Line2D at 0x7f10c85fb410>]"
      ]
     },
     "execution_count": 33,
     "metadata": {},
     "output_type": "execute_result"
    },
    {
     "data": {
      "image/png": "[encoded data removed]",
      "text/plain": [
       "<Figure size 640x480 with 1 Axes>"
      ]
     },
     "metadata": {},
     "output_type": "display_data"
    }
   ],
   "source": [
    "plt.plot(np.linspace(0.0,0.03,1000),biases)"
   ]
  }
 ],
 "metadata": {
  "kernelspec": {
   "display_name": "mdenv",
   "language": "python",
   "name": "python3"
  },
  "language_info": {
   "codemirror_mode": {
    "name": "ipython",
    "version": 3
   },
   "file_extension": ".py",
   "mimetype": "text/x-python",
   "name": "python",
   "nbconvert_exporter": "python",
   "pygments_lexer": "ipython3",
   "version": "3.11.5"
  }
 },
 "nbformat": 4,
 "nbformat_minor": 4
}
